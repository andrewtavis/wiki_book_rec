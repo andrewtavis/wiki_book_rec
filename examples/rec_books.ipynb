{
 "cells": [
  {
   "cell_type": "markdown",
   "id": "following-convert",
   "metadata": {
    "toc": true
   },
   "source": [
    "<h1>Table of Contents<span class=\"tocSkip\"></span></h1>\n",
    "<div class=\"toc\"><ul class=\"toc-item\"><li><span><a href=\"#Download-and-Clean-Data\" data-toc-modified-id=\"Download-and-Clean-Data-1\"><span class=\"toc-item-num\">1&nbsp;&nbsp;</span>Download and Clean Data</a></span></li><li><span><a href=\"#Making-Recommendations\" data-toc-modified-id=\"Making-Recommendations-2\"><span class=\"toc-item-num\">2&nbsp;&nbsp;</span>Making Recommendations</a></span><ul class=\"toc-item\"><li><span><a href=\"#BERT\" data-toc-modified-id=\"BERT-2.1\"><span class=\"toc-item-num\">2.1&nbsp;&nbsp;</span>BERT</a></span></li><li><span><a href=\"#Doc2vec\" data-toc-modified-id=\"Doc2vec-2.2\"><span class=\"toc-item-num\">2.2&nbsp;&nbsp;</span>Doc2vec</a></span></li><li><span><a href=\"#LDA\" data-toc-modified-id=\"LDA-2.3\"><span class=\"toc-item-num\">2.3&nbsp;&nbsp;</span>LDA</a></span></li><li><span><a href=\"#TFIDF\" data-toc-modified-id=\"TFIDF-2.4\"><span class=\"toc-item-num\">2.4&nbsp;&nbsp;</span>TFIDF</a></span></li><li><span><a href=\"#WikilinkNN\" data-toc-modified-id=\"WikilinkNN-2.5\"><span class=\"toc-item-num\">2.5&nbsp;&nbsp;</span>WikilinkNN</a></span></li><li><span><a href=\"#Weighted-Model\" data-toc-modified-id=\"Weighted-Model-2.6\"><span class=\"toc-item-num\">2.6&nbsp;&nbsp;</span>Weighted Model</a></span></li></ul></li></ul></div>"
   ]
  },
  {
   "cell_type": "markdown",
   "id": "grand-journalist",
   "metadata": {},
   "source": [
    "**rec_books**\n",
    "\n",
    "Downloads an English Wikipedia dump and parses it for all available books. All available models are then ran to compare recommendation efficacy.\n",
    "\n",
    "If using this notebook in [Google Colab](https://colab.research.google.com/github/andrewtavis/wikirec/blob/main/examples/rec_books.ipynb), you can activate GPUs by following `Edit > Notebook settings > Hardware accelerator` and selecting `GPU`."
   ]
  },
  {
   "cell_type": "code",
   "execution_count": 1,
   "id": "married-intelligence",
   "metadata": {
    "ExecuteTime": {
     "end_time": "2021-04-17T09:14:00.086187Z",
     "start_time": "2021-04-17T09:14:00.083226Z"
    }
   },
   "outputs": [],
   "source": [
    "# pip install wikirec -U"
   ]
  },
  {
   "cell_type": "markdown",
   "id": "embedded-house",
   "metadata": {},
   "source": [
    "The following gensim update might be necessary in Google Colab as the default version is very low."
   ]
  },
  {
   "cell_type": "code",
   "execution_count": 2,
   "id": "superb-athens",
   "metadata": {
    "ExecuteTime": {
     "end_time": "2021-04-17T09:14:00.521685Z",
     "start_time": "2021-04-17T09:14:00.519244Z"
    }
   },
   "outputs": [],
   "source": [
    "# pip install gensim -U"
   ]
  },
  {
   "cell_type": "markdown",
   "id": "united-wilderness",
   "metadata": {},
   "source": [
    "In Colab you'll also need to download nltk's names data."
   ]
  },
  {
   "cell_type": "code",
   "execution_count": 3,
   "id": "outstanding-demand",
   "metadata": {
    "ExecuteTime": {
     "end_time": "2021-04-17T09:14:01.148828Z",
     "start_time": "2021-04-17T09:14:01.146620Z"
    }
   },
   "outputs": [],
   "source": [
    "# import nltk\n",
    "# nltk.download(\"names\")"
   ]
  },
  {
   "cell_type": "code",
   "execution_count": 1,
   "id": "continuing-lebanon",
   "metadata": {
    "ExecuteTime": {
     "end_time": "2021-04-23T07:35:09.188413Z",
     "start_time": "2021-04-23T07:35:02.942419Z"
    }
   },
   "outputs": [
    {
     "data": {
      "text/html": [
       "<style>.container { width:99% !important; }</style>"
      ],
      "text/plain": [
       "<IPython.core.display.HTML object>"
      ]
     },
     "metadata": {},
     "output_type": "display_data"
    }
   ],
   "source": [
    "import os\n",
    "import json\n",
    "import pickle\n",
    "\n",
    "import matplotlib.pyplot as plt\n",
    "import seaborn as sns\n",
    "\n",
    "sns.set(style=\"darkgrid\")\n",
    "sns.set(rc={\"figure.figsize\": (15, 5)})\n",
    "\n",
    "from wikirec import data_utils, model, utils\n",
    "\n",
    "from IPython.core.display import display, HTML\n",
    "\n",
    "display(HTML(\"<style>.container { width:99% !important; }</style>\"))"
   ]
  },
  {
   "cell_type": "markdown",
   "id": "aerial-commonwealth",
   "metadata": {},
   "source": [
    "# Download and Clean Data"
   ]
  },
  {
   "cell_type": "code",
   "execution_count": null,
   "id": "superior-recorder",
   "metadata": {
    "ExecuteTime": {
     "start_time": "2021-04-23T07:34:46.586Z"
    }
   },
   "outputs": [
    {
     "name": "stdout",
     "output_type": "stream",
     "text": [
      "DL file to ./enwiki_dump/enwiki-20210401-pages-articles-multistream2.xml-p41243p151573.bz2\n",
      "Downloading data from https://dumps.wikimedia.org/enwiki/20210401/enwiki-20210401-pages-articles-multistream2.xml-p41243p151573.bz2\n",
      "  4751360/334526368 [..............................] - ETA: 1:18"
     ]
    }
   ],
   "source": [
    "files = data_utils.download_wiki(\n",
    "    language=\"en\", target_dir=\"./enwiki_dump\", file_limit=-1, dump_id=False\n",
    ")\n",
    "len(files)"
   ]
  },
  {
   "cell_type": "code",
   "execution_count": 2,
   "id": "sporting-burner",
   "metadata": {
    "ExecuteTime": {
     "end_time": "2021-04-23T07:35:09.197569Z",
     "start_time": "2021-04-23T07:35:09.195304Z"
    }
   },
   "outputs": [],
   "source": [
    "topic = \"books\""
   ]
  },
  {
   "cell_type": "code",
   "execution_count": 3,
   "id": "convenient-style",
   "metadata": {
    "ExecuteTime": {
     "end_time": "2021-04-23T07:35:09.202487Z",
     "start_time": "2021-04-23T07:35:09.199065Z"
    }
   },
   "outputs": [
    {
     "name": "stdout",
     "output_type": "stream",
     "text": [
      "File ./enwiki_books.ndjson with articles for the given topics already exists\n"
     ]
    }
   ],
   "source": [
    "data_utils.parse_to_ndjson(\n",
    "    topics=topic,\n",
    "    output_path=\"./enwiki_books.ndjson\",\n",
    "    input_dir=\"./enwiki_dump\",\n",
    "    partitions_dir=\"./enwiki_book_partitions\",\n",
    "    limit=None,\n",
    "    delete_parsed_files=True,\n",
    "    multicore=True,\n",
    "    verbose=True,\n",
    ")"
   ]
  },
  {
   "cell_type": "code",
   "execution_count": 4,
   "id": "coated-peripheral",
   "metadata": {
    "ExecuteTime": {
     "end_time": "2021-04-23T07:35:14.464634Z",
     "start_time": "2021-04-23T07:35:13.325172Z"
    }
   },
   "outputs": [
    {
     "name": "stdout",
     "output_type": "stream",
     "text": [
      "Found a total of 41234 books.\n"
     ]
    }
   ],
   "source": [
    "with open(\"./enwiki_books.ndjson\", \"r\") as fin:\n",
    "    books = [json.loads(l) for l in fin]\n",
    "\n",
    "print(f\"Found a total of {len(books)} books.\")"
   ]
  },
  {
   "cell_type": "code",
   "execution_count": 6,
   "id": "russian-establishment",
   "metadata": {
    "ExecuteTime": {
     "end_time": "2021-04-23T07:35:21.954753Z",
     "start_time": "2021-04-23T07:35:21.944328Z"
    }
   },
   "outputs": [],
   "source": [
    "titles = [m[0] for m in books]\n",
    "texts = [m[1] for m in books]"
   ]
  },
  {
   "cell_type": "code",
   "execution_count": 8,
   "id": "furnished-finish",
   "metadata": {
    "ExecuteTime": {
     "end_time": "2021-04-23T07:35:54.621429Z",
     "start_time": "2021-04-23T07:35:54.467585Z"
    }
   },
   "outputs": [
    {
     "name": "stdout",
     "output_type": "stream",
     "text": [
      "Loading book corpus and selected indexes\n"
     ]
    }
   ],
   "source": [
    "if os.path.isfile(\"./book_corpus_idxs.pkl\"):\n",
    "    print(f\"Loading book corpus and selected indexes\")\n",
    "    with open(f\"./book_corpus_idxs.pkl\", \"rb\") as f:\n",
    "        text_corpus, selected_idxs = pickle.load(f)\n",
    "        selected_titles = [titles[i] for i in selected_idxs]\n",
    "\n",
    "else:\n",
    "    print(f\"Creating book corpus and selected indexes\")\n",
    "    text_corpus, selected_idxs = data_utils.clean(\n",
    "        texts=texts,\n",
    "        language=\"en\",\n",
    "        min_token_freq=5,  # 0 for Bert\n",
    "        min_token_len=3,  # 0 for Bert\n",
    "        min_tokens=50,\n",
    "        max_token_index=-1,\n",
    "        min_ngram_count=3,\n",
    "        remove_stopwords=True,  # False for Bert\n",
    "        ignore_words=None,\n",
    "        remove_names=True,\n",
    "        sample_size=1,\n",
    "        verbose=True,\n",
    "    )\n",
    "\n",
    "    selected_titles = [titles[i] for i in selected_idxs]\n",
    "\n",
    "    with open(\"./book_corpus_idxs.pkl\", \"wb\") as f:\n",
    "        print(\"Pickling book corpus and selected indexes\")\n",
    "        pickle.dump([text_corpus, selected_idxs], f, protocol=4)"
   ]
  },
  {
   "cell_type": "markdown",
   "id": "wooden-convention",
   "metadata": {},
   "source": [
    "# Making Recommendations"
   ]
  },
  {
   "cell_type": "code",
   "execution_count": 9,
   "id": "extreme-outside",
   "metadata": {
    "ExecuteTime": {
     "end_time": "2021-04-23T07:35:57.639161Z",
     "start_time": "2021-04-23T07:35:57.636451Z"
    }
   },
   "outputs": [],
   "source": [
    "single_input_0 = \"Harry Potter and the Philosopher's Stone\"\n",
    "single_input_1 = \"The Hobbit\"\n",
    "multiple_inputs = [\"Harry Potter and the Philosopher's Stone\", \"The Hobbit\"]"
   ]
  },
  {
   "cell_type": "code",
   "execution_count": 10,
   "id": "split-stick",
   "metadata": {
    "ExecuteTime": {
     "end_time": "2021-04-23T07:36:02.387513Z",
     "start_time": "2021-04-23T07:36:02.373150Z"
    }
   },
   "outputs": [],
   "source": [
    "def load_or_create_sim_matrix(\n",
    "    method,\n",
    "    corpus,\n",
    "    metric,\n",
    "    topic,\n",
    "    path=\"./\",\n",
    "    bert_st_model=\"xlm-r-bert-base-nli-stsb-mean-tokens\",\n",
    "    **kwargs,\n",
    "):\n",
    "    \"\"\"\n",
    "    Loads or creats a similarity matrix to deliver recommendations\n",
    "    \n",
    "    NOTE: the .pkl files made are 5-10GB or more in size\n",
    "    \"\"\"\n",
    "    if os.path.isfile(f\"{path}{topic}_{metric}_{method}_sim_matrix.pkl\"):\n",
    "        print(f\"Loading {method} {topic} {metric} similarity matrix\")\n",
    "        with open(f\"{path}{topic}_{metric}_{method}_sim_matrix.pkl\", \"rb\") as f:\n",
    "            sim_matrix = pickle.load(f)\n",
    "\n",
    "    else:\n",
    "        print(f\"Creating {method} {topic} {metric} similarity matrix\")\n",
    "        embeddings = model.gen_embeddings(\n",
    "            method=method, corpus=corpus, bert_st_model=bert_st_model, **kwargs,\n",
    "        )\n",
    "        sim_matrix = model.gen_sim_matrix(\n",
    "            method=method, metric=metric, embeddings=embeddings,\n",
    "        )\n",
    "\n",
    "        with open(f\"{path}{topic}_{metric}_{method}_sim_matrix.pkl\", \"wb\") as f:\n",
    "            print(f\"Pickling {method} {topic} {metric} similarity matrix\")\n",
    "            pickle.dump(sim_matrix, f, protocol=4)\n",
    "\n",
    "    return sim_matrix"
   ]
  },
  {
   "cell_type": "markdown",
   "id": "leading-hearts",
   "metadata": {},
   "source": [
    "## BERT"
   ]
  },
  {
   "cell_type": "code",
   "execution_count": 11,
   "id": "interim-healthcare",
   "metadata": {
    "ExecuteTime": {
     "end_time": "2021-04-23T07:36:08.498186Z",
     "start_time": "2021-04-23T07:36:07.204386Z"
    }
   },
   "outputs": [],
   "source": [
    "# Remove n-grams for BERT training\n",
    "corpus_no_ngrams = [\n",
    "    \" \".join([t for t in text.split(\" \") if \"_\" not in t]) for text in text_corpus\n",
    "]"
   ]
  },
  {
   "cell_type": "code",
   "execution_count": 12,
   "id": "dutch-valuable",
   "metadata": {
    "ExecuteTime": {
     "end_time": "2021-04-23T07:36:15.420637Z",
     "start_time": "2021-04-23T07:36:09.186795Z"
    }
   },
   "outputs": [
    {
     "name": "stdout",
     "output_type": "stream",
     "text": [
      "Loading bert books cosine similarity matrix\n"
     ]
    }
   ],
   "source": [
    "# We can pass kwargs for sentence_transformers.SentenceTransformer.encode\n",
    "bert_sim_matrix = load_or_create_sim_matrix(\n",
    "    method=\"bert\",\n",
    "    corpus=corpus_no_ngrams,\n",
    "    metric=\"cosine\",  # euclidean\n",
    "    topic=topic,\n",
    "    path=\"./\",\n",
    "    bert_st_model=\"xlm-r-bert-base-nli-stsb-mean-tokens\",\n",
    "    show_progress_bar=True,\n",
    "    batch_size=32,\n",
    ")"
   ]
  },
  {
   "cell_type": "code",
   "execution_count": 17,
   "id": "labeled-sponsorship",
   "metadata": {
    "ExecuteTime": {
     "end_time": "2021-03-08T20:27:22.716645Z",
     "start_time": "2021-03-08T20:27:16.542802Z"
    }
   },
   "outputs": [
    {
     "data": {
      "text/plain": [
       "[['Harry Potter and the Goblet of Fire', 0.9275407],\n",
       " ['Harry Potter and the Deathly Hallows', 0.92178226],\n",
       " ['A Monster Calls', 0.9148517],\n",
       " ['Spells', 0.9139519],\n",
       " ['Matilda', 0.9071869],\n",
       " ['Wildwood', 0.9070556],\n",
       " ['The Hobbit', 0.9052026],\n",
       " ['Harry Potter and the Order of the Phoenix', 0.9049706],\n",
       " [\"The Magician's Nephew\", 0.9039968],\n",
       " ['The Silver Chair', 0.89989555]]"
      ]
     },
     "execution_count": 17,
     "metadata": {},
     "output_type": "execute_result"
    }
   ],
   "source": [
    "model.recommend(\n",
    "    inputs=single_input_0,\n",
    "    titles=selected_titles,\n",
    "    sim_matrix=bert_sim_matrix,\n",
    "    n=10,\n",
    "    metric=\"cosine\",\n",
    ")"
   ]
  },
  {
   "cell_type": "code",
   "execution_count": 18,
   "id": "emotional-alberta",
   "metadata": {
    "ExecuteTime": {
     "end_time": "2021-03-08T20:27:24.286148Z",
     "start_time": "2021-03-08T20:27:23.781795Z"
    }
   },
   "outputs": [
    {
     "data": {
      "text/plain": [
       "[['The Seeing Stone', 0.9184302],\n",
       " ['Charmed Life', 0.9156177],\n",
       " ['Spellbound', 0.9137267],\n",
       " ['The Little Grey Men', 0.91196114],\n",
       " ['The Ring of Solomon', 0.909929],\n",
       " ['The Magic Finger', 0.9097778],\n",
       " ['I, Coriander', 0.90645945],\n",
       " [\"Harry Potter and the Philosopher's Stone\", 0.9052026],\n",
       " [\"All Thirteen: The Incredible Cave Rescue of the Thai Boys' Soccer Team\",\n",
       "  0.9048355],\n",
       " ['Miss Hickory', 0.9041687]]"
      ]
     },
     "execution_count": 18,
     "metadata": {},
     "output_type": "execute_result"
    }
   ],
   "source": [
    "model.recommend(\n",
    "    inputs=single_input_1,\n",
    "    titles=selected_titles,\n",
    "    sim_matrix=bert_sim_matrix,\n",
    "    n=10,\n",
    "    metric=\"cosine\",\n",
    ")"
   ]
  },
  {
   "cell_type": "code",
   "execution_count": 19,
   "id": "productive-switzerland",
   "metadata": {
    "ExecuteTime": {
     "end_time": "2021-03-08T20:27:29.410285Z",
     "start_time": "2021-03-08T20:27:26.044513Z"
    }
   },
   "outputs": [
    {
     "data": {
      "text/plain": [
       "[['The Little Grey Men', 0.9031571],\n",
       " ['The Magic Finger', 0.90149724],\n",
       " ['Matilda', 0.9011334],\n",
       " ['The Seeing Stone', 0.90090525],\n",
       " ['A Monster Calls', 0.9001728],\n",
       " ['Spells', 0.89896786],\n",
       " ['Charmed Life', 0.89813614],\n",
       " [\"The Magician's Nephew\", 0.896847],\n",
       " ['The Lion, the Witch and the Wardrobe', 0.8954387],\n",
       " ['I, Coriander', 0.8934685]]"
      ]
     },
     "execution_count": 19,
     "metadata": {},
     "output_type": "execute_result"
    }
   ],
   "source": [
    "model.recommend(\n",
    "    inputs=multiple_inputs,\n",
    "    titles=selected_titles,\n",
    "    sim_matrix=bert_sim_matrix,\n",
    "    n=10,\n",
    "    metric=\"cosine\",\n",
    ")"
   ]
  },
  {
   "cell_type": "markdown",
   "id": "integrated-rotation",
   "metadata": {},
   "source": [
    "## Doc2vec"
   ]
  },
  {
   "cell_type": "code",
   "execution_count": 20,
   "id": "invisible-blast",
   "metadata": {
    "ExecuteTime": {
     "end_time": "2021-03-08T20:28:17.481942Z",
     "start_time": "2021-03-08T20:27:37.401859Z"
    }
   },
   "outputs": [
    {
     "name": "stdout",
     "output_type": "stream",
     "text": [
      "Loading doc2vec books cosine similarity matrix\n"
     ]
    }
   ],
   "source": [
    "# We can pass kwargs for gensim.models.doc2vec.Doc2Vec\n",
    "doc2vec_sim_matrix = load_or_create_sim_matrix(\n",
    "    method=\"doc2vec\",\n",
    "    corpus=text_corpus,\n",
    "    metric=\"cosine\",  # euclidean\n",
    "    topic=topic,\n",
    "    path=\"./\",\n",
    "    vector_size=100,\n",
    "    epochs=10,\n",
    "    alpha=0.025,\n",
    ")"
   ]
  },
  {
   "cell_type": "code",
   "execution_count": 21,
   "id": "sublime-indiana",
   "metadata": {
    "ExecuteTime": {
     "end_time": "2021-03-08T20:28:41.450207Z",
     "start_time": "2021-03-08T20:28:25.142117Z"
    }
   },
   "outputs": [
    {
     "data": {
      "text/plain": [
       "[['Harry Potter and the Deathly Hallows', 0.5511563189854312],\n",
       " ['Lost Horizon', 0.5103009837821468],\n",
       " ['Anatomy of an Epidemic', 0.4970893231596097],\n",
       " ['Weird Tales 4', 0.48898032440744255],\n",
       " ['The Wounded Surgeon', 0.4833330319649109],\n",
       " ['Imperial Twilight', 0.4792812442960969],\n",
       " ['Weird Tales 3', 0.47755804117322587],\n",
       " ['The Under Dog and Other Stories', 0.47338214151878044],\n",
       " ['The Most Famous Man in America', 0.4633816267660689],\n",
       " ['For the Relief of Unbearable Urges', 0.4626855509914502]]"
      ]
     },
     "execution_count": 21,
     "metadata": {},
     "output_type": "execute_result"
    }
   ],
   "source": [
    "model.recommend(\n",
    "    inputs=single_input_0,\n",
    "    titles=selected_titles,\n",
    "    sim_matrix=doc2vec_sim_matrix,\n",
    "    n=10,\n",
    "    metric=\"cosine\",\n",
    ")"
   ]
  },
  {
   "cell_type": "code",
   "execution_count": 22,
   "id": "cathedral-writer",
   "metadata": {
    "ExecuteTime": {
     "end_time": "2021-03-08T20:28:42.594878Z",
     "start_time": "2021-03-08T20:28:41.454822Z"
    }
   },
   "outputs": [
    {
     "data": {
      "text/plain": [
       "[['Tao of Jeet Kune Do', 0.586374200273839],\n",
       " ['A Light in the Attic', 0.5638286586776491],\n",
       " ['Lockdown', 0.5613684142608049],\n",
       " ['The Particular Sadness of Lemon Cake', 0.561304264201524],\n",
       " ['Boy', 0.5588912646328453],\n",
       " ['The Lord of the Rings', 0.55433004434006],\n",
       " ['P Is for Pterodactyl', 0.5461079467564652],\n",
       " ['The Great American Baseball Card Flipping, Trading and Bubble Gum Book',\n",
       "  0.5397654380217243],\n",
       " ['Lord of the Flies', 0.5381416487324301],\n",
       " ['Paddle-to-the-Sea', 0.5344509860228208]]"
      ]
     },
     "execution_count": 22,
     "metadata": {},
     "output_type": "execute_result"
    }
   ],
   "source": [
    "model.recommend(\n",
    "    inputs=single_input_1,\n",
    "    titles=selected_titles,\n",
    "    sim_matrix=doc2vec_sim_matrix,\n",
    "    n=10,\n",
    "    metric=\"cosine\",\n",
    ")"
   ]
  },
  {
   "cell_type": "code",
   "execution_count": 23,
   "id": "direct-quality",
   "metadata": {
    "ExecuteTime": {
     "end_time": "2021-03-08T20:28:45.361883Z",
     "start_time": "2021-03-08T20:28:44.027358Z"
    }
   },
   "outputs": [
    {
     "data": {
      "text/plain": [
       "[['Harry Potter and the Deathly Hallows', 0.48558120738039856],\n",
       " ['A Light in the Attic', 0.48500627971994403],\n",
       " ['Tao of Jeet Kune Do', 0.47221065020311254],\n",
       " ['A Patchwork Planet', 0.46084408429874313],\n",
       " ['P Is for Pterodactyl', 0.4607802513235646],\n",
       " ['The Tale of Samuel Whiskers or The Roly-Poly Pudding', 0.44526299997355046],\n",
       " ['Buckskin Brigades', 0.4440458628502496],\n",
       " ['Hello Lighthouse', 0.44398529880926535],\n",
       " ['Harry Potter and the Half-Blood Prince', 0.4282244056218962],\n",
       " ['Lord of the Flies', 0.4266990155722771]]"
      ]
     },
     "execution_count": 23,
     "metadata": {},
     "output_type": "execute_result"
    }
   ],
   "source": [
    "model.recommend(\n",
    "    inputs=multiple_inputs,\n",
    "    titles=selected_titles,\n",
    "    sim_matrix=doc2vec_sim_matrix,\n",
    "    n=10,\n",
    "    metric=\"cosine\",\n",
    ")"
   ]
  },
  {
   "cell_type": "markdown",
   "id": "simplified-teaching",
   "metadata": {},
   "source": [
    "## LDA"
   ]
  },
  {
   "cell_type": "code",
   "execution_count": 16,
   "id": "sealed-priest",
   "metadata": {
    "ExecuteTime": {
     "end_time": "2021-03-08T07:33:16.842506Z",
     "start_time": "2021-03-08T07:19:43.017033Z"
    }
   },
   "outputs": [
    {
     "data": {
      "application/vnd.jupyter.widget-view+json": {
       "model_id": "89357a4a3ec346c9833e6d6c93c3aee6",
       "version_major": 2,
       "version_minor": 0
      },
      "text/plain": [
       "LDA models ran:   0%|          | 0/12 [00:00<?, ?it/s]"
      ]
     },
     "metadata": {},
     "output_type": "display_data"
    },
    {
     "data": {
      "image/png": "[encoded data removed]",
      "text/plain": [
       "<Figure size 1080x360 with 1 Axes>"
      ]
     },
     "metadata": {},
     "output_type": "display_data"
    }
   ],
   "source": [
    "topic_nums_to_compare = [1, 10, 20, 30, 40, 50, 60, 70, 80, 90, 100]\n",
    "\n",
    "# We can pass kwargs for gensim.models.ldamulticore.LdaMulticore\n",
    "utils.graph_lda_topic_evals(\n",
    "    corpus=text_corpus,\n",
    "    num_topic_words=10,\n",
    "    topic_nums_to_compare=topic_nums_to_compare,\n",
    "    metrics=True,\n",
    "    verbose=True,\n",
    ")\n",
    "\n",
    "plt.show()"
   ]
  },
  {
   "cell_type": "code",
   "execution_count": 24,
   "id": "sporting-present",
   "metadata": {
    "ExecuteTime": {
     "end_time": "2021-03-08T20:29:06.353082Z",
     "start_time": "2021-03-08T20:29:00.527201Z"
    }
   },
   "outputs": [
    {
     "name": "stdout",
     "output_type": "stream",
     "text": [
      "Loading lda books cosine similarity matrix\n"
     ]
    }
   ],
   "source": [
    "# We can pass kwargs for gensim.models.ldamulticore.LdaMulticore\n",
    "lda_sim_matrix = load_or_create_sim_matrix(\n",
    "    method=\"lda\",\n",
    "    corpus=text_corpus,\n",
    "    metric=\"cosine\",  # euclidean not an option at this time\n",
    "    topic=topic,\n",
    "    path=\"./\",\n",
    "    num_topics=90,\n",
    "    passes=10,\n",
    "    decay=0.5,\n",
    ")"
   ]
  },
  {
   "cell_type": "code",
   "execution_count": 17,
   "id": "appreciated-istanbul",
   "metadata": {
    "ExecuteTime": {
     "end_time": "2021-03-08T11:45:59.678625Z",
     "start_time": "2021-03-08T11:45:59.156863Z"
    }
   },
   "outputs": [
    {
     "data": {
      "text/plain": [
       "[['Harry Potter and the Chamber of Secrets', 0.99455196],\n",
       " ['Harry Potter and the Half-Blood Prince', 0.978615],\n",
       " ['Artemis Fowl', 0.9756279],\n",
       " ['Harry Potter and the Goblet of Fire', 0.96870595],\n",
       " ['Harry Potter and the Deathly Hallows', 0.9509542],\n",
       " ['Harry Potter and the Order of the Phoenix', 0.9505762],\n",
       " ['The Troubled Man', 0.94174504],\n",
       " ['A Morbid Taste for Bones', 0.9339708],\n",
       " ['One Corpse Too Many', 0.9328407],\n",
       " ['The Cat in the Hat', 0.9263108]]"
      ]
     },
     "execution_count": 17,
     "metadata": {},
     "output_type": "execute_result"
    }
   ],
   "source": [
    "model.recommend(\n",
    "    inputs=single_input_0,\n",
    "    titles=selected_titles,\n",
    "    sim_matrix=lda_sim_matrix,\n",
    "    n=10,\n",
    "    metric=\"cosine\",\n",
    ")"
   ]
  },
  {
   "cell_type": "code",
   "execution_count": 25,
   "id": "spiritual-horizon",
   "metadata": {
    "ExecuteTime": {
     "end_time": "2021-03-08T20:29:14.363218Z",
     "start_time": "2021-03-08T20:29:11.718316Z"
    }
   },
   "outputs": [
    {
     "data": {
      "text/plain": [
       "[['The Mystery at Lilac Inn', 0.9999413],\n",
       " ['A Secret Vice', 0.9998557],\n",
       " ['The Lord of the Rings', 0.99977183],\n",
       " [\"The Countess of Pembroke's Arcadia\", 0.9976354],\n",
       " ['Mythology', 0.99716675],\n",
       " ['The Monsters and the Critics, and Other Essays', 0.9970264],\n",
       " ['How to Talk Minnesotan', 0.99561405],\n",
       " ['The History of The Hobbit', 0.99519783],\n",
       " ['The Annotated Hobbit', 0.9948809],\n",
       " [\"The Lord of the Rings: A Reader's Companion\", 0.9946786]]"
      ]
     },
     "execution_count": 25,
     "metadata": {},
     "output_type": "execute_result"
    }
   ],
   "source": [
    "model.recommend(\n",
    "    inputs=single_input_1,\n",
    "    titles=selected_titles,\n",
    "    sim_matrix=lda_sim_matrix,\n",
    "    n=10,\n",
    "    metric=\"cosine\",\n",
    ")"
   ]
  },
  {
   "cell_type": "code",
   "execution_count": 26,
   "id": "adult-provincial",
   "metadata": {
    "ExecuteTime": {
     "end_time": "2021-03-08T20:29:16.963150Z",
     "start_time": "2021-03-08T20:29:16.002914Z"
    }
   },
   "outputs": [
    {
     "data": {
      "text/plain": [
       "[['The Two Towers', 0.6737263],\n",
       " ['The Tolkien Reader', 0.5701004],\n",
       " [\"Tolkien's Legendarium\", 0.5401918],\n",
       " ['The Hurricane Party', 0.53934956],\n",
       " ['Journeys of Frodo', 0.5365135],\n",
       " ['The Lost Road and Other Writings', 0.53360015],\n",
       " ['Moby-Dick', 0.5240759],\n",
       " ['Charlie and the Chocolate Factory', 0.5172413],\n",
       " [\"The Lord of the Rings: A Reader's Companion\", 0.5172281],\n",
       " ['The Lord of the Rings', 0.51478237]]"
      ]
     },
     "execution_count": 26,
     "metadata": {},
     "output_type": "execute_result"
    }
   ],
   "source": [
    "model.recommend(\n",
    "    inputs=multiple_inputs,\n",
    "    titles=selected_titles,\n",
    "    sim_matrix=lda_sim_matrix,\n",
    "    n=10,\n",
    "    metric=\"cosine\",\n",
    ")"
   ]
  },
  {
   "cell_type": "markdown",
   "id": "periodic-builder",
   "metadata": {},
   "source": [
    "## TFIDF"
   ]
  },
  {
   "cell_type": "code",
   "execution_count": 13,
   "id": "contained-buffalo",
   "metadata": {
    "ExecuteTime": {
     "end_time": "2021-04-23T07:37:14.644140Z",
     "start_time": "2021-04-23T07:36:47.148144Z"
    }
   },
   "outputs": [
    {
     "name": "stdout",
     "output_type": "stream",
     "text": [
      "Loading tfidf books cosine similarity matrix\n"
     ]
    }
   ],
   "source": [
    "# We can pass kwargs for sklearn.feature_extraction.text.TfidfVectorizer\n",
    "tfidf_sim_matrix = load_or_create_sim_matrix(\n",
    "    method=\"tfidf\",\n",
    "    corpus=text_corpus,\n",
    "    metric=\"cosine\",  # euclidean\n",
    "    topic=topic,\n",
    "    path=\"./\",\n",
    "    max_features=None,\n",
    "    norm='l2',\n",
    ")"
   ]
  },
  {
   "cell_type": "code",
   "execution_count": 29,
   "id": "legal-point",
   "metadata": {
    "ExecuteTime": {
     "end_time": "2021-03-08T20:30:21.645064Z",
     "start_time": "2021-03-08T20:30:15.208794Z"
    }
   },
   "outputs": [
    {
     "data": {
      "text/plain": [
       "[['Harry Potter and the Chamber of Secrets', 0.6644434544958339],\n",
       " ['Harry Potter and the Deathly Hallows', 0.6547119201881699],\n",
       " ['Harry Potter and the Order of the Phoenix', 0.642515197024424],\n",
       " ['Harry Potter and the Half-Blood Prince', 0.6420367483506718],\n",
       " ['Harry Potter and the Goblet of Fire', 0.5951892674032896],\n",
       " ['The Magical Worlds of Harry Potter', 0.5609077339791474],\n",
       " ['Harry Potter and the Methods of Rationality', 0.5379869646546271],\n",
       " ['Harry, A History', 0.5360108950074289],\n",
       " ['Harry Potter and the Cursed Child', 0.5019619677408425],\n",
       " ['Fantastic Beasts and Where to Find Them', 0.48860861798783956]]"
      ]
     },
     "execution_count": 29,
     "metadata": {},
     "output_type": "execute_result"
    }
   ],
   "source": [
    "model.recommend(\n",
    "    inputs=single_input_0,\n",
    "    titles=selected_titles,\n",
    "    sim_matrix=tfidf_sim_matrix,\n",
    "    n=10,\n",
    "    metric=\"cosine\",\n",
    ")"
   ]
  },
  {
   "cell_type": "code",
   "execution_count": 30,
   "id": "unnecessary-injection",
   "metadata": {
    "ExecuteTime": {
     "end_time": "2021-03-08T20:30:22.732970Z",
     "start_time": "2021-03-08T20:30:21.653960Z"
    }
   },
   "outputs": [
    {
     "data": {
      "text/plain": [
       "[['The History of The Hobbit', 0.6968314428704283],\n",
       " ['The Annotated Hobbit', 0.6056439862168547],\n",
       " ['The Lord of the Rings', 0.5579023075664765],\n",
       " ['The Road to Middle-Earth', 0.5376868352509242],\n",
       " ['Mr. Bliss', 0.49951465923170035],\n",
       " ['The Letters of J. R. R. Tolkien', 0.49586730946969954],\n",
       " ['J. R. R. Tolkien: A Biography', 0.491002699969649],\n",
       " ['The Fellowship of the Ring', 0.4725626366254413],\n",
       " ['Tolkien: Maker of Middle-earth', 0.46079070209443573],\n",
       " [\"Bilbo's Last Song\", 0.45336292390290156]]"
      ]
     },
     "execution_count": 30,
     "metadata": {},
     "output_type": "execute_result"
    }
   ],
   "source": [
    "model.recommend(\n",
    "    inputs=single_input_1,\n",
    "    titles=selected_titles,\n",
    "    sim_matrix=tfidf_sim_matrix,\n",
    "    n=10,\n",
    "    metric=\"cosine\",\n",
    ")"
   ]
  },
  {
   "cell_type": "code",
   "execution_count": 31,
   "id": "incident-appendix",
   "metadata": {
    "ExecuteTime": {
     "end_time": "2021-03-08T20:30:26.266813Z",
     "start_time": "2021-03-08T20:30:22.735294Z"
    }
   },
   "outputs": [
    {
     "data": {
      "text/plain": [
       "[['The History of The Hobbit', 0.3630409561901944],\n",
       " ['Harry Potter and the Chamber of Secrets', 0.35662779096968417],\n",
       " ['Harry Potter and the Deathly Hallows', 0.3525511840389999],\n",
       " ['Harry Potter and the Half-Blood Prince', 0.34751621204943556],\n",
       " ['Harry Potter and the Order of the Phoenix', 0.3429859797299906],\n",
       " ['Harry Potter and the Goblet of Fire', 0.32341644906938327],\n",
       " ['The Annotated Hobbit', 0.3146736587107837],\n",
       " ['The Lord of the Rings', 0.3108195325708887],\n",
       " ['The Magical Worlds of Harry Potter', 0.308962426272421],\n",
       " ['Harry Potter and the Methods of Rationality', 0.28898077558075325]]"
      ]
     },
     "execution_count": 31,
     "metadata": {},
     "output_type": "execute_result"
    }
   ],
   "source": [
    "model.recommend(\n",
    "    inputs=multiple_inputs,\n",
    "    titles=selected_titles,\n",
    "    sim_matrix=tfidf_sim_matrix,\n",
    "    n=10,\n",
    "    metric=\"cosine\",\n",
    ")"
   ]
  },
  {
   "cell_type": "markdown",
   "id": "tropical-causing",
   "metadata": {},
   "source": [
    "## WikilinkNN"
   ]
  },
  {
   "cell_type": "code",
   "execution_count": null,
   "id": "dedicated-marijuana",
   "metadata": {},
   "outputs": [],
   "source": [
    "# We can pass kwargs for the WikilinkNN Keras model\n",
    "wikilink_sim_matrix = load_or_create_sim_matrix(\n",
    "    method=\"wikilinknn\",\n",
    "    corpus=text_corpus,\n",
    "    metric=\"cosine\",  # euclidean\n",
    "    topic=topic,\n",
    "    path=\"./\",\n",
    "    embedding_size=75,\n",
    "    epochs=20,\n",
    "    verbose=True,\n",
    ")"
   ]
  },
  {
   "cell_type": "code",
   "execution_count": null,
   "id": "computational-centre",
   "metadata": {},
   "outputs": [],
   "source": [
    "model.recommend(\n",
    "    inputs=single_input_0,\n",
    "    titles=selected_titles,\n",
    "    sim_matrix=wikilink_sim_matrix,\n",
    "    n=10,\n",
    "    metric=\"cosine\",\n",
    ")"
   ]
  },
  {
   "cell_type": "code",
   "execution_count": null,
   "id": "worse-spank",
   "metadata": {},
   "outputs": [],
   "source": [
    "model.recommend(\n",
    "    inputs=single_input_1,\n",
    "    titles=selected_titles,\n",
    "    sim_matrix=wikilink_sim_matrix,\n",
    "    n=10,\n",
    "    metric=\"cosine\",\n",
    ")"
   ]
  },
  {
   "cell_type": "code",
   "execution_count": null,
   "id": "english-marble",
   "metadata": {},
   "outputs": [],
   "source": [
    "model.recommend(\n",
    "    inputs=multiple_inputs,\n",
    "    titles=selected_titles,\n",
    "    sim_matrix=wikilink_sim_matrix,\n",
    "    n=10,\n",
    "    metric=\"cosine\",\n",
    ")"
   ]
  },
  {
   "cell_type": "markdown",
   "id": "premium-interface",
   "metadata": {},
   "source": [
    "## Weighted Model"
   ]
  },
  {
   "cell_type": "code",
   "execution_count": null,
   "id": "loving-volunteer",
   "metadata": {},
   "outputs": [],
   "source": [
    "# wikilink_sims_copy = wikilink_sims.copy()\n",
    "# not_selected_idxs = [i for i in range(len(titles)) if i not in selected_idxs]\n",
    "\n",
    "# wikilink_sims_copy = np.delete(wikilink_sims_copy, not_selected_idxs, axis=0)\n",
    "# wikilink_sims_copy = np.delete(wikilink_sims_copy, not_selected_idxs, axis=1)"
   ]
  },
  {
   "cell_type": "code",
   "execution_count": null,
   "id": "continuing-greene",
   "metadata": {},
   "outputs": [],
   "source": [
    "tfidf_weight = 0.35\n",
    "bert_weight = 1.0 - tfidf_weight\n",
    "bert_tfidf_sim_matrix = tfidf_weight * tfidf_sim_matrix + bert_weight * bert_sim_matrix"
   ]
  },
  {
   "cell_type": "code",
   "execution_count": null,
   "id": "particular-technique",
   "metadata": {},
   "outputs": [],
   "source": [
    "model.recommend(\n",
    "    inputs=single_input_0,\n",
    "    titles=selected_titles,\n",
    "    sim_matrix=bert_tfidf_sim_matrix,\n",
    "    n=10,\n",
    "    metric=\"cosine\",\n",
    ")"
   ]
  },
  {
   "cell_type": "code",
   "execution_count": null,
   "id": "hollow-money",
   "metadata": {},
   "outputs": [],
   "source": [
    "model.recommend(\n",
    "    inputs=single_input_1,\n",
    "    titles=selected_titles,\n",
    "    sim_matrix=bert_tfidf_sim_matrix,\n",
    "    n=10,\n",
    "    metric=\"cosine\",\n",
    ")"
   ]
  },
  {
   "cell_type": "code",
   "execution_count": null,
   "id": "random-campus",
   "metadata": {},
   "outputs": [],
   "source": [
    "model.recommend(\n",
    "    inputs=multiple_inputs,\n",
    "    titles=selected_titles,\n",
    "    sim_matrix=bert_tfidf_sim_matrix,\n",
    "    n=10,\n",
    "    metric=\"cosine\",\n",
    ")"
   ]
  },
  {
   "cell_type": "code",
   "execution_count": null,
   "id": "related-pavilion",
   "metadata": {},
   "outputs": [],
   "source": []
  }
 ],
 "metadata": {
  "kernelspec": {
   "display_name": "Python 3",
   "language": "python",
   "name": "python3"
  },
  "language_info": {
   "codemirror_mode": {
    "name": "ipython",
    "version": 3
   },
   "file_extension": ".py",
   "mimetype": "text/x-python",
   "name": "python",
   "nbconvert_exporter": "python",
   "pygments_lexer": "ipython3",
   "version": "3.7.10"
  },
  "toc": {
   "base_numbering": 1,
   "nav_menu": {},
   "number_sections": true,
   "sideBar": true,
   "skip_h1_title": false,
   "title_cell": "Table of Contents",
   "title_sidebar": "Contents",
   "toc_cell": true,
   "toc_position": {},
   "toc_section_display": true,
   "toc_window_display": false
  }
 },
 "nbformat": 4,
 "nbformat_minor": 5
}
