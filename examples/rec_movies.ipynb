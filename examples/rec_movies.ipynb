{
 "cells": [
  {
   "cell_type": "markdown",
   "id": "authentic-python",
   "metadata": {
    "toc": true
   },
   "source": [
    "<h1>Table of Contents<span class=\"tocSkip\"></span></h1>\n",
    "<div class=\"toc\"><ul class=\"toc-item\"><li><span><a href=\"#Download-and-Clean-Data\" data-toc-modified-id=\"Download-and-Clean-Data-1\"><span class=\"toc-item-num\">1&nbsp;&nbsp;</span>Download and Clean Data</a></span></li><li><span><a href=\"#Making-Recommendations\" data-toc-modified-id=\"Making-Recommendations-2\"><span class=\"toc-item-num\">2&nbsp;&nbsp;</span>Making Recommendations</a></span><ul class=\"toc-item\"><li><span><a href=\"#BERT\" data-toc-modified-id=\"BERT-2.1\"><span class=\"toc-item-num\">2.1&nbsp;&nbsp;</span>BERT</a></span></li><li><span><a href=\"#Doc2vec\" data-toc-modified-id=\"Doc2vec-2.2\"><span class=\"toc-item-num\">2.2&nbsp;&nbsp;</span>Doc2vec</a></span></li><li><span><a href=\"#LDA\" data-toc-modified-id=\"LDA-2.3\"><span class=\"toc-item-num\">2.3&nbsp;&nbsp;</span>LDA</a></span></li><li><span><a href=\"#TFIDF\" data-toc-modified-id=\"TFIDF-2.4\"><span class=\"toc-item-num\">2.4&nbsp;&nbsp;</span>TFIDF</a></span></li><li><span><a href=\"#WikilinkNN\" data-toc-modified-id=\"WikilinkNN-2.5\"><span class=\"toc-item-num\">2.5&nbsp;&nbsp;</span>WikilinkNN</a></span></li><li><span><a href=\"#Weighted-Model\" data-toc-modified-id=\"Weighted-Model-2.6\"><span class=\"toc-item-num\">2.6&nbsp;&nbsp;</span>Weighted Model</a></span></li></ul></li></ul></div>"
   ]
  },
  {
   "cell_type": "markdown",
   "id": "overhead-anthropology",
   "metadata": {},
   "source": [
    "**rec_movies**\n",
    "\n",
    "Downloads an English Wikipedia dump and parses it for all available movies. All available models are then ran to compare recommendation efficacy.\n",
    "\n",
    "If using this notebook in [Google Colab](https://colab.research.google.com/github/andrewtavis/wikirec/blob/main/examples/rec_movies.ipynb), you can activate GPUs by following `Edit > Notebook settings > Hardware accelerator` and selecting `GPU`."
   ]
  },
  {
   "cell_type": "code",
   "execution_count": null,
   "id": "wicked-agreement",
   "metadata": {
    "ExecuteTime": {
     "end_time": "2021-03-19T08:04:27.565654Z",
     "start_time": "2021-03-19T08:04:27.563019Z"
    }
   },
   "outputs": [],
   "source": [
    "# pip install wikirec -U"
   ]
  },
  {
   "cell_type": "markdown",
   "id": "extreme-place",
   "metadata": {},
   "source": [
    "The following gensim update might be necessary in Google Colab as the default version is very low."
   ]
  },
  {
   "cell_type": "code",
   "execution_count": null,
   "id": "meaning-tournament",
   "metadata": {
    "ExecuteTime": {
     "end_time": "2021-03-19T08:04:27.930741Z",
     "start_time": "2021-03-19T08:04:27.928120Z"
    }
   },
   "outputs": [],
   "source": [
    "# pip install gensim -U"
   ]
  },
  {
   "cell_type": "markdown",
   "id": "studied-disclaimer",
   "metadata": {},
   "source": [
    "In Colab you'll also need to download nltk's names data."
   ]
  },
  {
   "cell_type": "code",
   "execution_count": null,
   "id": "floating-fetish",
   "metadata": {
    "ExecuteTime": {
     "end_time": "2021-03-19T08:04:28.505060Z",
     "start_time": "2021-03-19T08:04:28.502968Z"
    }
   },
   "outputs": [],
   "source": [
    "# import nltk\n",
    "# nltk.download(\"names\")"
   ]
  },
  {
   "cell_type": "code",
   "execution_count": null,
   "id": "continuing-lebanon",
   "metadata": {
    "ExecuteTime": {
     "end_time": "2021-03-19T08:04:36.605249Z",
     "start_time": "2021-03-19T08:04:28.834467Z"
    }
   },
   "outputs": [],
   "source": [
    "import os\n",
    "import json\n",
    "import pickle\n",
    "\n",
    "import matplotlib.pyplot as plt\n",
    "import seaborn as sns\n",
    "\n",
    "sns.set(style=\"darkgrid\")\n",
    "sns.set(rc={\"figure.figsize\": (15, 5)})\n",
    "\n",
    "from wikirec import data_utils, model, utils\n",
    "\n",
    "from IPython.core.display import display, HTML\n",
    "\n",
    "display(HTML(\"<style>.container { width:99% !important; }</style>\"))"
   ]
  },
  {
   "cell_type": "markdown",
   "id": "mysterious-merit",
   "metadata": {},
   "source": [
    "# Download and Clean Data"
   ]
  },
  {
   "cell_type": "code",
   "execution_count": null,
   "id": "lucky-niagara",
   "metadata": {
    "ExecuteTime": {
     "end_time": "2021-03-19T08:04:37.797323Z",
     "start_time": "2021-03-19T08:04:36.767094Z"
    }
   },
   "outputs": [],
   "source": [
    "files = data_utils.download_wiki(\n",
    "    language=\"en\", target_dir=\"./enwiki_dump\", file_limit=-1, dump_id=False\n",
    ")\n",
    "len(files)"
   ]
  },
  {
   "cell_type": "code",
   "execution_count": null,
   "id": "damaged-lawyer",
   "metadata": {
    "ExecuteTime": {
     "end_time": "2021-03-19T08:04:37.801399Z",
     "start_time": "2021-03-19T08:04:37.799513Z"
    }
   },
   "outputs": [],
   "source": [
    "topic = \"movies\""
   ]
  },
  {
   "cell_type": "code",
   "execution_count": null,
   "id": "vertical-swiss",
   "metadata": {
    "ExecuteTime": {
     "end_time": "2021-03-19T08:04:38.089091Z",
     "start_time": "2021-03-19T08:04:38.085448Z"
    }
   },
   "outputs": [],
   "source": [
    "data_utils.parse_to_ndjson(\n",
    "    topics=topic,\n",
    "    output_path=\"./enwiki_movies.ndjson\",\n",
    "    input_dir=\"./enwiki_dump\",\n",
    "    partitions_dir=\"./enwiki_movie_partitions\",\n",
    "    limit=None,\n",
    "    delete_parsed_files=True,\n",
    "    multicore=True,\n",
    "    verbose=True,\n",
    ")"
   ]
  },
  {
   "cell_type": "code",
   "execution_count": null,
   "id": "handed-farmer",
   "metadata": {
    "ExecuteTime": {
     "end_time": "2021-03-19T08:04:42.060122Z",
     "start_time": "2021-03-19T08:04:38.952244Z"
    }
   },
   "outputs": [],
   "source": [
    "with open(\"./enwiki_movies.ndjson\", \"r\") as fin:\n",
    "    movies = [json.loads(l) for l in fin]\n",
    "\n",
    "print(f\"Found a total of {len(movies)} movies.\")"
   ]
  },
  {
   "cell_type": "code",
   "execution_count": null,
   "id": "traditional-jefferson",
   "metadata": {
    "ExecuteTime": {
     "end_time": "2021-03-19T08:04:42.659735Z",
     "start_time": "2021-03-19T08:04:42.631725Z"
    }
   },
   "outputs": [],
   "source": [
    "titles = [m[0] for m in movies]\n",
    "texts = [m[1] for m in movies]\n",
    "wikilinks = [m[2] for m in movies]"
   ]
  },
  {
   "cell_type": "code",
   "execution_count": null,
   "id": "sufficient-cattle",
   "metadata": {
    "ExecuteTime": {
     "end_time": "2021-03-19T08:04:44.816980Z",
     "start_time": "2021-03-19T08:04:44.560014Z"
    }
   },
   "outputs": [],
   "source": [
    "if os.path.isfile(\"./movie_corpus_idxs.pkl\"):\n",
    "    print(f\"Loading movie corpus and selected indexes\")\n",
    "    with open(f\"./movie_corpus_idxs.pkl\", \"rb\") as f:\n",
    "        text_corpus, selected_idxs = pickle.load(f)\n",
    "\n",
    "else:\n",
    "    print(f\"Creating movie corpus and selected indexes\")\n",
    "    text_corpus, selected_idxs = data_utils.clean(\n",
    "        texts=texts,\n",
    "        language=\"en\",\n",
    "        min_token_freq=5,  # 0 for Bert\n",
    "        min_token_len=3,  # 0 for Bert\n",
    "        min_tokens=50,\n",
    "        max_token_index=-1,\n",
    "        min_ngram_count=3,\n",
    "        remove_stopwords=True,  # False for Bert\n",
    "        ignore_words=None,\n",
    "        remove_names=True,\n",
    "        sample_size=1,\n",
    "        verbose=True,\n",
    "    )\n",
    "\n",
    "    selected_titles = [titles[i] for i in selected_idxs]\n",
    "\n",
    "    with open(\"./movie_corpus_idxs.pkl\", \"wb\") as f:\n",
    "        print(\"Pickling movie corpus and selected indexes\")\n",
    "        pickle.dump([text_corpus, selected_idxs], f, protocol=4)"
   ]
  },
  {
   "cell_type": "markdown",
   "id": "greek-transsexual",
   "metadata": {},
   "source": [
    "# Making Recommendations"
   ]
  },
  {
   "cell_type": "code",
   "execution_count": null,
   "id": "rubber-census",
   "metadata": {
    "ExecuteTime": {
     "end_time": "2021-03-19T08:04:47.619209Z",
     "start_time": "2021-03-19T08:04:47.616753Z"
    }
   },
   "outputs": [],
   "source": [
    "single_input_0 = \"The Godfather\"\n",
    "single_input_1 = \"The Dark Knight\"\n",
    "mutliple_inputs = [\"The Godfather\", \"The Dark Knight\"]"
   ]
  },
  {
   "cell_type": "code",
   "execution_count": null,
   "id": "personal-framework",
   "metadata": {
    "ExecuteTime": {
     "end_time": "2021-03-19T08:04:51.023526Z",
     "start_time": "2021-03-19T08:04:51.006014Z"
    }
   },
   "outputs": [],
   "source": [
    "def load_or_create_sim_matrix(\n",
    "    method,\n",
    "    corpus,\n",
    "    metric,\n",
    "    topic,\n",
    "    path=\"./\",\n",
    "    bert_st_model=\"xlm-r-bert-base-nli-stsb-mean-tokens\",\n",
    "    **kwargs,\n",
    "):\n",
    "    \"\"\"\n",
    "    Loads or creats a similarity matrix to deliver recommendations\n",
    "    \n",
    "    NOTE: the .pkl files made are 10-20GB or more in size\n",
    "    \"\"\"\n",
    "    if os.path.isfile(f\"{path}{topic}_{metric}_{method}_sim_matrix.pkl\"):\n",
    "        print(f\"Loading {method} {topic} {metric} similarity matrix\")\n",
    "        with open(f\"{path}{topic}_{metric}_{method}_sim_matrix.pkl\", \"rb\") as f:\n",
    "            sim_matrix = pickle.load(f)\n",
    "\n",
    "    else:\n",
    "        print(f\"Creating {method} {topic} {metric} similarity matrix\")\n",
    "        embeddings = model.gen_embeddings(\n",
    "            method=method, corpus=corpus, bert_st_model=bert_st_model, **kwargs,\n",
    "        )\n",
    "        sim_matrix = model.gen_sim_matrix(\n",
    "            method=method, metric=metric, embeddings=embeddings,\n",
    "        )\n",
    "\n",
    "        with open(f\"{path}{topic}_{metric}_{method}_sim_matrix.pkl\", \"wb\") as f:\n",
    "            print(f\"Pickling {method} {topic} {metric} similarity matrix\")\n",
    "            pickle.dump(sim_matrix, f, protocol=4)\n",
    "\n",
    "    return sim_matrix"
   ]
  },
  {
   "cell_type": "markdown",
   "id": "experimental-session",
   "metadata": {},
   "source": [
    "## BERT"
   ]
  },
  {
   "cell_type": "code",
   "execution_count": null,
   "id": "serious-rebecca",
   "metadata": {
    "ExecuteTime": {
     "end_time": "2021-03-19T08:04:56.120472Z",
     "start_time": "2021-03-19T08:04:53.065166Z"
    }
   },
   "outputs": [],
   "source": [
    "# Remove n-grams for BERT training\n",
    "corpus_no_ngrams = [\n",
    "    \" \".join([t for t in text.split(\" \") if \"_\" not in t]) for text in text_corpus\n",
    "]"
   ]
  },
  {
   "cell_type": "code",
   "execution_count": null,
   "id": "awful-culture",
   "metadata": {
    "ExecuteTime": {
     "end_time": "2021-03-19T08:04:59.485099Z",
     "start_time": "2021-03-19T08:04:58.685959Z"
    }
   },
   "outputs": [],
   "source": [
    "# We can pass kwargs for sentence_transformers.SentenceTransformer.encode\n",
    "bert_sim_matrix = load_or_create_sim_matrix(\n",
    "    method=\"bert\",\n",
    "    corpus=corpus_no_ngrams,\n",
    "    metric=\"cosine\",  # euclidean\n",
    "    topic=topic,\n",
    "    path=\"./\",\n",
    "    bert_st_model=\"xlm-r-bert-base-nli-stsb-mean-tokens\",\n",
    "    show_progress_bar=True,\n",
    "    batch_size=32,\n",
    ")"
   ]
  },
  {
   "cell_type": "code",
   "execution_count": null,
   "id": "disabled-parker",
   "metadata": {},
   "outputs": [],
   "source": [
    "model.recommend(\n",
    "    inputs=single_input_0,\n",
    "    titles=selected_titles,\n",
    "    sim_matrix=bert_sim_matrix,\n",
    "    n=10,\n",
    "    metric=\"cosine\",\n",
    ")"
   ]
  },
  {
   "cell_type": "code",
   "execution_count": null,
   "id": "super-scope",
   "metadata": {},
   "outputs": [],
   "source": [
    "model.recommend(\n",
    "    inputs=single_input_1,\n",
    "    titles=selected_titles,\n",
    "    sim_matrix=bert_sim_matrix,\n",
    "    n=10,\n",
    "    metric=\"cosine\",\n",
    ")"
   ]
  },
  {
   "cell_type": "code",
   "execution_count": null,
   "id": "final-emission",
   "metadata": {
    "ExecuteTime": {
     "end_time": "2021-03-08T04:12:53.366133Z",
     "start_time": "2021-03-08T04:00:34.053166Z"
    }
   },
   "outputs": [],
   "source": [
    "model.recommend(\n",
    "    inputs=multiple_inputs,\n",
    "    titles=selected_titles,\n",
    "    sim_matrix=bert_sim_matrix,\n",
    "    n=10,\n",
    "    metric=\"cosine\",\n",
    ")"
   ]
  },
  {
   "cell_type": "markdown",
   "id": "prostate-pound",
   "metadata": {},
   "source": [
    "## Doc2vec"
   ]
  },
  {
   "cell_type": "markdown",
   "id": "otherwise-underwear",
   "metadata": {},
   "source": [
    "Note: Doc2vec wasn't ran because of runtime considerations"
   ]
  },
  {
   "cell_type": "code",
   "execution_count": null,
   "id": "integral-mailman",
   "metadata": {},
   "outputs": [],
   "source": [
    "# We can pass kwargs for gensim.models.doc2vec.Doc2Vec\n",
    "doc2vec_sim_matrix = load_or_create_sim_matrix(\n",
    "    method=\"doc2vec\",\n",
    "    corpus=text_corpus,\n",
    "    metric=\"cosine\",  # euclidean\n",
    "    topic=topic,\n",
    "    path=\"./\",\n",
    "    vector_size=100,\n",
    "    epochs=10,\n",
    "    alpha=0.025,\n",
    ")"
   ]
  },
  {
   "cell_type": "code",
   "execution_count": null,
   "id": "recreational-appliance",
   "metadata": {},
   "outputs": [],
   "source": [
    "model.recommend(\n",
    "    inputs=single_input_0,\n",
    "    titles=selected_titles,\n",
    "    sim_matrix=doc2vec_sim_matrix,\n",
    "    n=10,\n",
    "    metric=\"cosine\",\n",
    ")"
   ]
  },
  {
   "cell_type": "code",
   "execution_count": null,
   "id": "aerial-undergraduate",
   "metadata": {},
   "outputs": [],
   "source": [
    "model.recommend(\n",
    "    inputs=single_input_1,\n",
    "    titles=selected_titles,\n",
    "    sim_matrix=doc2vec_sim_matrix,\n",
    "    n=10,\n",
    "    metric=\"cosine\",\n",
    ")"
   ]
  },
  {
   "cell_type": "code",
   "execution_count": null,
   "id": "living-program",
   "metadata": {
    "ExecuteTime": {
     "start_time": "2021-03-07T20:09:31.182Z"
    }
   },
   "outputs": [],
   "source": [
    "model.recommend(\n",
    "    inputs=multiple_inputs,\n",
    "    titles=selected_titles,\n",
    "    sim_matrix=doc2vec_sim_matrix,\n",
    "    n=10,\n",
    "    metric=\"cosine\",\n",
    ")"
   ]
  },
  {
   "cell_type": "markdown",
   "id": "middle-steps",
   "metadata": {},
   "source": [
    "## LDA"
   ]
  },
  {
   "cell_type": "code",
   "execution_count": null,
   "id": "religious-school",
   "metadata": {
    "ExecuteTime": {
     "start_time": "2021-03-18T19:54:26.990Z"
    }
   },
   "outputs": [],
   "source": [
    "topic_nums_to_compare = [1, 10, 20, 30, 40, 50, 60, 70, 80, 90, 100]\n",
    "\n",
    "# We can pass kwargs for gensim.models.ldamulticore.LdaMulticore\n",
    "utils.graph_lda_topic_evals(\n",
    "    corpus=text_corpus,\n",
    "    num_topic_words=10,\n",
    "    topic_nums_to_compare=topic_nums_to_compare,\n",
    "    metrics=True,\n",
    "    verbose=True,\n",
    ")\n",
    "\n",
    "plt.show()"
   ]
  },
  {
   "cell_type": "code",
   "execution_count": null,
   "id": "mighty-isolation",
   "metadata": {
    "ExecuteTime": {
     "end_time": "2021-03-06T11:18:14.370829Z",
     "start_time": "2021-03-06T11:18:13.700035Z"
    }
   },
   "outputs": [],
   "source": [
    "# We can pass kwargs for gensim.models.ldamulticore.LdaMulticore\n",
    "lda_sim_matrix = load_or_create_sim_matrix(\n",
    "    method=\"lda\",\n",
    "    corpus=text_corpus,\n",
    "    metric=\"cosine\",  # euclidean not an option at this time\n",
    "    topic=topic,\n",
    "    path=\"./\",\n",
    "    num_topics=90,\n",
    "    passes=10,\n",
    "    decay=0.5,\n",
    ")"
   ]
  },
  {
   "cell_type": "code",
   "execution_count": null,
   "id": "manual-packing",
   "metadata": {},
   "outputs": [],
   "source": [
    "model.recommend(\n",
    "    inputs=single_input_0,\n",
    "    titles=selected_titles,\n",
    "    sim_matrix=lda_sim_matrix,\n",
    "    n=10,\n",
    "    metric=\"cosine\",\n",
    ")"
   ]
  },
  {
   "cell_type": "code",
   "execution_count": null,
   "id": "julian-blame",
   "metadata": {},
   "outputs": [],
   "source": [
    "model.recommend(\n",
    "    inputs=single_input_1,\n",
    "    titles=selected_titles,\n",
    "    sim_matrix=lda_sim_matrix,\n",
    "    n=10,\n",
    "    metric=\"cosine\",\n",
    ")"
   ]
  },
  {
   "cell_type": "code",
   "execution_count": null,
   "id": "eleven-intelligence",
   "metadata": {
    "ExecuteTime": {
     "end_time": "2021-03-06T11:18:15.671225Z",
     "start_time": "2021-03-06T11:18:15.664946Z"
    }
   },
   "outputs": [],
   "source": [
    "model.recommend(\n",
    "    inputs=multiple_inputs,\n",
    "    titles=selected_titles,\n",
    "    sim_matrix=lda_sim_matrix,\n",
    "    n=10,\n",
    "    metric=\"cosine\",\n",
    ")"
   ]
  },
  {
   "cell_type": "markdown",
   "id": "nasty-brook",
   "metadata": {},
   "source": [
    "## TFIDF"
   ]
  },
  {
   "cell_type": "code",
   "execution_count": null,
   "id": "sunrise-trader",
   "metadata": {
    "ExecuteTime": {
     "start_time": "2021-03-18T19:54:35.991Z"
    }
   },
   "outputs": [],
   "source": [
    "# We can pass kwargs for sklearn.feature_extraction.text.TfidfVectorizer\n",
    "tfidf_sim_matrix = load_or_create_sim_matrix(\n",
    "    method=\"tfidf\",\n",
    "    corpus=text_corpus,\n",
    "    metric=\"cosine\",  # euclidean\n",
    "    topic=topic,\n",
    "    path=\"./\",\n",
    "    max_features=None,\n",
    "    norm='l2',\n",
    ")"
   ]
  },
  {
   "cell_type": "code",
   "execution_count": null,
   "id": "after-crystal",
   "metadata": {},
   "outputs": [],
   "source": [
    "model.recommend(\n",
    "    inputs=single_input_0,\n",
    "    titles=selected_titles,\n",
    "    sim_matrix=tfidf_sim_matrix,\n",
    "    n=10,\n",
    "    metric=\"cosine\",\n",
    ")"
   ]
  },
  {
   "cell_type": "code",
   "execution_count": null,
   "id": "proper-regression",
   "metadata": {},
   "outputs": [],
   "source": [
    "model.recommend(\n",
    "    inputs=single_input_0,\n",
    "    titles=selected_titles,\n",
    "    sim_matrix=tfidf_sim_matrix,\n",
    "    n=10,\n",
    "    metric=\"cosine\",\n",
    ")"
   ]
  },
  {
   "cell_type": "code",
   "execution_count": null,
   "id": "detailed-scratch",
   "metadata": {
    "ExecuteTime": {
     "end_time": "2021-03-06T11:20:33.836968Z",
     "start_time": "2021-03-06T11:20:33.831822Z"
    }
   },
   "outputs": [],
   "source": [
    "model.recommend(\n",
    "    inputs=multiple_inputs,\n",
    "    titles=selected_titles,\n",
    "    sim_matrix=tfidf_sim_matrix,\n",
    "    n=10,\n",
    "    metric=\"cosine\",\n",
    ")"
   ]
  },
  {
   "cell_type": "markdown",
   "id": "failing-stevens",
   "metadata": {},
   "source": [
    "## WikilinkNN"
   ]
  },
  {
   "cell_type": "code",
   "execution_count": null,
   "id": "anticipated-divide",
   "metadata": {},
   "outputs": [],
   "source": [
    "# We can pass kwargs for the WikilinkNN Keras model\n",
    "wikilink_sim_matrix = load_or_create_sim_matrix(\n",
    "    method=\"wikilinknn\",\n",
    "    corpus=text_corpus,\n",
    "    metric=\"cosine\",  # euclidean\n",
    "    topic=topic,\n",
    "    path=\"./\",\n",
    "    path_to_json=\"./enwiki_books.ndjson\",\n",
    "    path_to_embedding_model=\"books_embedding_model.h5\",\n",
    "    embedding_size=50,\n",
    "    epochs=20,\n",
    "    verbose=True,\n",
    ")"
   ]
  },
  {
   "cell_type": "code",
   "execution_count": null,
   "id": "mysterious-admission",
   "metadata": {},
   "outputs": [],
   "source": [
    "model.recommend(\n",
    "    inputs=single_input_0,\n",
    "    titles=selected_titles,\n",
    "    sim_matrix=wikilink_sim_matrix,\n",
    "    n=10,\n",
    "    metric=\"cosine\",\n",
    ")"
   ]
  },
  {
   "cell_type": "code",
   "execution_count": null,
   "id": "collectible-scenario",
   "metadata": {},
   "outputs": [],
   "source": [
    "model.recommend(\n",
    "    inputs=single_input_1,\n",
    "    titles=selected_titles,\n",
    "    sim_matrix=wikilink_sim_matrix,\n",
    "    n=10,\n",
    "    metric=\"cosine\",\n",
    ")"
   ]
  },
  {
   "cell_type": "code",
   "execution_count": null,
   "id": "senior-illustration",
   "metadata": {},
   "outputs": [],
   "source": [
    "model.recommend(\n",
    "    inputs=multiple_inputs,\n",
    "    titles=selected_titles,\n",
    "    sim_matrix=wikilink_sim_matrix,\n",
    "    n=10,\n",
    "    metric=\"cosine\",\n",
    ")"
   ]
  },
  {
   "cell_type": "markdown",
   "id": "dental-relative",
   "metadata": {},
   "source": [
    "## Weighted Model"
   ]
  },
  {
   "cell_type": "code",
   "execution_count": null,
   "id": "psychological-checklist",
   "metadata": {},
   "outputs": [],
   "source": [
    "# wikilink_sims_copy = wikilink_sims.copy()\n",
    "# not_selected_idxs = [i for i in range(len(titles)) if i not in selected_idxs]\n",
    "\n",
    "# wikilink_sims_copy = np.delete(wikilink_sims_copy, not_selected_idxs, axis=0)\n",
    "# wikilink_sims_copy = np.delete(wikilink_sims_copy, not_selected_idxs, axis=1)"
   ]
  },
  {
   "cell_type": "code",
   "execution_count": null,
   "id": "million-packet",
   "metadata": {},
   "outputs": [],
   "source": [
    "tfidf_weight = 0.35\n",
    "bert_weight = 1.0 - tfidf_weight\n",
    "bert_tfidf_sim_matrix = tfidf_weight * tfidf_sim_matrix + bert_weight * bert_sim_matrix"
   ]
  },
  {
   "cell_type": "code",
   "execution_count": null,
   "id": "beginning-pharmaceutical",
   "metadata": {},
   "outputs": [],
   "source": [
    "model.recommend(\n",
    "    inputs=single_input_0,\n",
    "    titles=selected_titles,\n",
    "    sim_matrix=bert_tfidf_sim_matrix,\n",
    "    n=10,\n",
    "    metric=\"cosine\",\n",
    ")"
   ]
  },
  {
   "cell_type": "code",
   "execution_count": null,
   "id": "proved-boulder",
   "metadata": {},
   "outputs": [],
   "source": [
    "model.recommend(\n",
    "    inputs=single_input_1,\n",
    "    titles=selected_titles,\n",
    "    sim_matrix=bert_tfidf_sim_matrix,\n",
    "    n=10,\n",
    "    metric=\"cosine\",\n",
    ")"
   ]
  },
  {
   "cell_type": "code",
   "execution_count": null,
   "id": "positive-fusion",
   "metadata": {},
   "outputs": [],
   "source": [
    "model.recommend(\n",
    "    inputs=multiple_inputs,\n",
    "    titles=selected_titles,\n",
    "    sim_matrix=bert_tfidf_sim_matrix,\n",
    "    n=10,\n",
    "    metric=\"cosine\",\n",
    ")"
   ]
  },
  {
   "cell_type": "code",
   "execution_count": null,
   "id": "close-courage",
   "metadata": {},
   "outputs": [],
   "source": []
  }
 ],
 "metadata": {
  "kernelspec": {
   "display_name": "Python 3",
   "language": "python",
   "name": "python3"
  },
  "language_info": {
   "codemirror_mode": {
    "name": "ipython",
    "version": 3
   },
   "file_extension": ".py",
   "mimetype": "text/x-python",
   "name": "python",
   "nbconvert_exporter": "python",
   "pygments_lexer": "ipython3",
   "version": "3.7.10"
  },
  "toc": {
   "base_numbering": 1,
   "nav_menu": {},
   "number_sections": true,
   "sideBar": true,
   "skip_h1_title": false,
   "title_cell": "Table of Contents",
   "title_sidebar": "Contents",
   "toc_cell": true,
   "toc_position": {},
   "toc_section_display": true,
   "toc_window_display": false
  }
 },
 "nbformat": 4,
 "nbformat_minor": 5
}
