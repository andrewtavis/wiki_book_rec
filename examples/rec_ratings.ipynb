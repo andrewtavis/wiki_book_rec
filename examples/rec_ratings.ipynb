{
 "cells": [
  {
   "cell_type": "markdown",
   "id": "d6b07698",
   "metadata": {
    "ExecuteTime": {
     "end_time": "2021-04-07T20:30:31.031707Z",
     "start_time": "2021-04-07T20:30:31.016696Z"
    }
   },
   "source": [
    "**rec_ratings**:\n",
    "\n",
    "Tests the functionality of using multiple inputs with multiple assigned ratings."
   ]
  },
  {
   "cell_type": "code",
   "execution_count": 1,
   "id": "65004bb8",
   "metadata": {
    "ExecuteTime": {
     "end_time": "2021-04-14T18:10:38.870643Z",
     "start_time": "2021-04-14T18:10:32.229165Z"
    }
   },
   "outputs": [
    {
     "name": "stdout",
     "output_type": "stream",
     "text": [
      "INFO:tensorflow:Enabling eager execution\n",
      "INFO:tensorflow:Enabling v2 tensorshape\n",
      "INFO:tensorflow:Enabling resource variables\n",
      "INFO:tensorflow:Enabling tensor equality\n",
      "INFO:tensorflow:Enabling control flow v2\n"
     ]
    }
   ],
   "source": [
    "from wikirec import data_utils, model, utils\n",
    "import os\n",
    "import json\n",
    "import pickle\n",
    "\n",
    "import matplotlib.pyplot as plt\n",
    "import seaborn as sns"
   ]
  },
  {
   "cell_type": "markdown",
   "id": "47ce8291",
   "metadata": {},
   "source": [
    "# Import existing data "
   ]
  },
  {
   "cell_type": "code",
   "execution_count": 2,
   "id": "9e7a9710",
   "metadata": {
    "ExecuteTime": {
     "end_time": "2021-04-14T18:10:38.886657Z",
     "start_time": "2021-04-14T18:10:38.872644Z"
    }
   },
   "outputs": [],
   "source": [
    "topic = \"books\""
   ]
  },
  {
   "cell_type": "code",
   "execution_count": 3,
   "id": "d4505134",
   "metadata": {
    "ExecuteTime": {
     "end_time": "2021-04-14T18:10:40.790386Z",
     "start_time": "2021-04-14T18:10:38.889661Z"
    }
   },
   "outputs": [
    {
     "name": "stdout",
     "output_type": "stream",
     "text": [
      "Found a total of 41234 books.\n"
     ]
    }
   ],
   "source": [
    "# Make sure to extract the .zip file containing enwiki_books.ndjson\n",
    "with open(\"./enwiki_books.ndjson/enwiki_books.ndjson\", \"r\") as fin:\n",
    "    books = [json.loads(l) for l in fin]\n",
    "\n",
    "print(f\"Found a total of {len(books)} books.\")"
   ]
  },
  {
   "cell_type": "code",
   "execution_count": 4,
   "id": "9aa016d4",
   "metadata": {
    "ExecuteTime": {
     "end_time": "2021-04-14T18:10:40.806402Z",
     "start_time": "2021-04-14T18:10:40.792390Z"
    }
   },
   "outputs": [],
   "source": [
    "titles = [m[0] for m in books] # Titles of each book\n",
    "texts = [m[1] for m in books] # The text from the English Wiki Articles of each page "
   ]
  },
  {
   "cell_type": "code",
   "execution_count": 5,
   "id": "bf57a0d5",
   "metadata": {
    "ExecuteTime": {
     "end_time": "2021-04-14T18:10:41.254808Z",
     "start_time": "2021-04-14T18:10:40.807402Z"
    }
   },
   "outputs": [
    {
     "name": "stdout",
     "output_type": "stream",
     "text": [
      "Loading book corpus and selected indexes\n"
     ]
    }
   ],
   "source": [
    "if os.path.isfile(\"./book_corpus_idxs.pkl\"):\n",
    "    print(f\"Loading book corpus and selected indexes\")\n",
    "    with open(f\"./book_corpus_idxs.pkl\", \"rb\") as f:\n",
    "        text_corpus, selected_idxs = pickle.load(f)\n",
    "        selected_titles = [titles[i] for i in selected_idxs]\n",
    "\n",
    "else:\n",
    "    print(f\"Creating book corpus and selected indexes\")\n",
    "    text_corpus, selected_idxs = data_utils.clean(\n",
    "        texts=texts,\n",
    "        language=\"en\",\n",
    "        min_token_freq=5,  # 0 for Bert\n",
    "        min_token_len=3,  # 0 for Bert\n",
    "        min_tokens=50,\n",
    "        max_token_index=-1,\n",
    "        min_ngram_count=3,\n",
    "        remove_stopwords=True,  # False for Bert\n",
    "        ignore_words=None,\n",
    "        remove_names=True,\n",
    "        sample_size=1,\n",
    "        verbose=True,\n",
    "    )\n",
    "\n",
    "    selected_titles = [titles[i] for i in selected_idxs]\n",
    "\n",
    "    with open(\"./book_corpus_idxs.pkl\", \"wb\") as f:\n",
    "        print(\"Pickling book corpus and selected indexes\")\n",
    "        pickle.dump([text_corpus, selected_idxs], f, protocol=4)"
   ]
  },
  {
   "cell_type": "markdown",
   "id": "8b9656b5",
   "metadata": {},
   "source": [
    "# Preparing a TFIDF model for recommendations"
   ]
  },
  {
   "cell_type": "code",
   "execution_count": 6,
   "id": "4947cfbf",
   "metadata": {
    "ExecuteTime": {
     "end_time": "2021-04-14T18:10:41.301851Z",
     "start_time": "2021-04-14T18:10:41.255809Z"
    }
   },
   "outputs": [],
   "source": [
    "def load_or_create_sim_matrix(\n",
    "    method,\n",
    "    corpus,\n",
    "    metric,\n",
    "    topic,\n",
    "    path=\"./\",\n",
    "    bert_st_model=\"xlm-r-bert-base-nli-stsb-mean-tokens\",\n",
    "    **kwargs,\n",
    "):\n",
    "    \"\"\"\n",
    "    Loads or creats a similarity matrix to deliver recommendations\n",
    "    \n",
    "    NOTE: the .pkl files made are 5-10GB or more in size\n",
    "    \"\"\"\n",
    "    if os.path.isfile(f\"{path}{topic}_{metric}_{method}_sim_matrix.pkl\"):\n",
    "        print(f\"Loading {method} {topic} {metric} similarity matrix\")\n",
    "        with open(f\"{path}{topic}_{metric}_{method}_sim_matrix.pkl\", \"rb\") as f:\n",
    "            sim_matrix = pickle.load(f)\n",
    "\n",
    "    else:\n",
    "        print(f\"Creating {method} {topic} {metric} similarity matrix\")\n",
    "        embeddings = model.gen_embeddings(\n",
    "            method=method, corpus=corpus, bert_st_model=bert_st_model, **kwargs,\n",
    "        )\n",
    "        sim_matrix = model.gen_sim_matrix(\n",
    "            method=method, metric=metric, embeddings=embeddings,\n",
    "        )\n",
    "\n",
    "        with open(f\"{path}{topic}_{metric}_{method}_sim_matrix.pkl\", \"wb\") as f:\n",
    "            print(f\"Pickling {method} {topic} {metric} similarity matrix\")\n",
    "            pickle.dump(sim_matrix, f, protocol=4)\n",
    "\n",
    "    return sim_matrix"
   ]
  },
  {
   "cell_type": "code",
   "execution_count": 7,
   "id": "223db7bc",
   "metadata": {
    "ExecuteTime": {
     "end_time": "2021-04-14T18:10:45.004730Z",
     "start_time": "2021-04-14T18:10:41.303853Z"
    }
   },
   "outputs": [
    {
     "name": "stdout",
     "output_type": "stream",
     "text": [
      "Loading tfidf books cosine similarity matrix\n"
     ]
    }
   ],
   "source": [
    "tfidf_sim_matrix = load_or_create_sim_matrix(\n",
    "    method=\"tfidf\",\n",
    "    corpus=text_corpus,\n",
    "    metric=\"cosine\",  # euclidean\n",
    "    topic=topic,\n",
    "    path=\"./\",\n",
    "    max_features=None,\n",
    "    norm='l2',\n",
    ")"
   ]
  },
  {
   "cell_type": "markdown",
   "id": "430937dc",
   "metadata": {},
   "source": [
    "# Utilizing the ratings for making recommendations\n",
    "Ratings for each input are restricted to be less than 10, and greater than or equal to 0"
   ]
  },
  {
   "cell_type": "markdown",
   "id": "14978e10",
   "metadata": {},
   "source": [
    "## No ratings \n",
    "Ratings are simply averaged"
   ]
  },
  {
   "cell_type": "code",
   "execution_count": 11,
   "id": "1d3c7d13",
   "metadata": {
    "ExecuteTime": {
     "end_time": "2021-04-14T18:11:11.941915Z",
     "start_time": "2021-04-14T18:11:11.467483Z"
    }
   },
   "outputs": [
    {
     "data": {
      "text/plain": [
       "[['The History of The Hobbit', 0.39543687196383887],\n",
       " ['The Annotated Hobbit', 0.3363038160377437],\n",
       " ['Harry Potter and the Deathly Hallows', 0.31365133665137784],\n",
       " ['Harry Potter and the Chamber of Secrets', 0.30697017204471655],\n",
       " ['Harry Potter and the Order of the Phoenix', 0.3050990193809162],\n",
       " ['Harry Potter and the Goblet of Fire', 0.3008483408564587],\n",
       " ['Harry Potter and the Half-Blood Prince', 0.29072541606015917],\n",
       " ['The Magical Worlds of Harry Potter', 0.27557913845105425],\n",
       " ['The Lord of the Rings', 0.2705902834440923],\n",
       " ['Harry Potter and the Prisoner of Azkaban', 0.2645807400342994]]"
      ]
     },
     "execution_count": 11,
     "metadata": {},
     "output_type": "execute_result"
    }
   ],
   "source": [
    "model.recommend(\n",
    "    inputs=[\"Harry Potter and the Philosopher's Stone\", \"The Hobbit\"],\n",
    "    ratings = None,\n",
    "    titles=selected_titles,\n",
    "    sim_matrix=tfidf_sim_matrix,\n",
    "    n=10,\n",
    "    metric=\"cosine\",\n",
    ")"
   ]
  },
  {
   "cell_type": "markdown",
   "id": "890e469a",
   "metadata": {},
   "source": [
    "## Rating them with a slight preference\n",
    "Notice the slight change in order, with preference for Harry Potter books being shifted higher."
   ]
  },
  {
   "cell_type": "code",
   "execution_count": 10,
   "id": "a54b0653",
   "metadata": {
    "ExecuteTime": {
     "end_time": "2021-04-14T18:11:05.426909Z",
     "start_time": "2021-04-14T18:11:04.939485Z"
    }
   },
   "outputs": [
    {
     "data": {
      "text/plain": [
       "[['Harry Potter and the Deathly Hallows', 0.30657433902634845],\n",
       " ['Harry Potter and the Chamber of Secrets', 0.299108615859228],\n",
       " ['Harry Potter and the Order of the Phoenix', 0.2986119632225544],\n",
       " ['Harry Potter and the Goblet of Fire', 0.2935461353845208],\n",
       " ['Harry Potter and the Half-Blood Prince', 0.28337075383861643],\n",
       " ['The History of The Hobbit', 0.28131183523069364],\n",
       " ['The Magical Worlds of Harry Potter', 0.2658723513573889],\n",
       " ['Harry Potter and the Prisoner of Azkaban', 0.25567350663264954],\n",
       " ['The Annotated Hobbit', 0.23945943814161777],\n",
       " ['Fantastic Beasts and Where to Find Them', 0.23872924195874404]]"
      ]
     },
     "execution_count": 10,
     "metadata": {},
     "output_type": "execute_result"
    }
   ],
   "source": [
    "model.recommend(\n",
    "    inputs=[\"Harry Potter and the Philosopher's Stone\", \"The Hobbit\"],\n",
    "    ratings=[10, 7],\n",
    "    titles=selected_titles,\n",
    "    sim_matrix=tfidf_sim_matrix,\n",
    "    n=10,\n",
    "    metric=\"cosine\",\n",
    ")"
   ]
  },
  {
   "cell_type": "markdown",
   "id": "c9688f44",
   "metadata": {},
   "source": [
    "## Completely different ratings\n",
    "The recommendations become dominated by Harry Potter-related books. "
   ]
  },
  {
   "cell_type": "code",
   "execution_count": 12,
   "id": "5825f720",
   "metadata": {
    "ExecuteTime": {
     "end_time": "2021-04-14T18:11:17.105916Z",
     "start_time": "2021-04-14T18:11:16.635533Z"
    }
   },
   "outputs": [
    {
     "data": {
      "text/plain": [
       "[['Harry Potter and the Deathly Hallows', 0.29477934298463276],\n",
       " ['Harry Potter and the Order of the Phoenix', 0.2878002029586181],\n",
       " ['Harry Potter and the Chamber of Secrets', 0.28600602221674704],\n",
       " ['Harry Potter and the Goblet of Fire', 0.28137579293129095],\n",
       " ['Harry Potter and the Half-Blood Prince', 0.27111298346937845],\n",
       " ['The Magical Worlds of Harry Potter', 0.2496943728679467],\n",
       " ['Harry Potter and the Prisoner of Azkaban', 0.24082811762989983],\n",
       " ['Harry Potter and the Methods of Rationality', 0.22732611579756462],\n",
       " ['Fantastic Beasts and Where to Find Them', 0.22613839155622148],\n",
       " ['Harry, A History', 0.2210389981400308],\n",
       " ['Harry Potter and the Cursed Child', 0.22078239641328692],\n",
       " ['The Casual Vacancy', 0.1933741447502036],\n",
       " ['The Ickabog', 0.18729998944935433],\n",
       " ['Pollomuhku ja Posityyhtynen', 0.1701209697837757],\n",
       " ['Quidditch Through the Ages', 0.14644881625297318]]"
      ]
     },
     "execution_count": 12,
     "metadata": {},
     "output_type": "execute_result"
    }
   ],
   "source": [
    "model.recommend(\n",
    "    inputs=[\"Harry Potter and the Philosopher's Stone\", \"The Hobbit\"],\n",
    "    ratings=[10, 2],\n",
    "    titles=selected_titles,\n",
    "    sim_matrix=tfidf_sim_matrix,\n",
    "    n=15,\n",
    "    metric=\"cosine\",\n",
    ")"
   ]
  },
  {
   "cell_type": "markdown",
   "id": "f40df22a",
   "metadata": {},
   "source": [
    "## Let's try out more books and ratings"
   ]
  },
  {
   "cell_type": "code",
   "execution_count": 13,
   "id": "0f4d1d6c",
   "metadata": {
    "ExecuteTime": {
     "end_time": "2021-04-14T18:11:22.735298Z",
     "start_time": "2021-04-14T18:11:21.836491Z"
    }
   },
   "outputs": [
    {
     "data": {
      "text/plain": [
       "[['Mockingjay', 0.2833900475601968],\n",
       " ['Catching Fire', 0.2667058570158859],\n",
       " ['Harry Potter and the Deathly Hallows', 0.2441572424724626],\n",
       " ['Harry Potter and the Order of the Phoenix', 0.24185900215519326],\n",
       " ['Harry Potter and the Goblet of Fire', 0.2361172970905478],\n",
       " ['Harry Potter and the Chamber of Secrets', 0.2351746504405977],\n",
       " ['Harry Potter and the Half-Blood Prince', 0.2279300124518356],\n",
       " ['Harry Potter and the Prisoner of Azkaban', 0.21689561851501843],\n",
       " ['The History of The Hobbit', 0.21330459347629357],\n",
       " ['The Magical Worlds of Harry Potter', 0.20485904169643493],\n",
       " ['The Ballad of Songbirds and Snakes', 0.1969163655963662],\n",
       " ['Fantastic Beasts and Where to Find Them', 0.18965280996309142],\n",
       " ['Harry Potter and the Cursed Child', 0.18417542815018734],\n",
       " ['Harry Potter and the Methods of Rationality', 0.18141303011897664],\n",
       " ['Harry, A History', 0.1806894597581523],\n",
       " ['The Bone Season', 0.1805092769052663],\n",
       " ['The Annotated Hobbit', 0.18036065589770353],\n",
       " ['The Lord of the Rings', 0.17740191382248888],\n",
       " ['The Casual Vacancy', 0.17589666271490761],\n",
       " ['Divergent', 0.17065269422678103]]"
      ]
     },
     "execution_count": 13,
     "metadata": {},
     "output_type": "execute_result"
    }
   ],
   "source": [
    "model.recommend(\n",
    "    inputs=[\"Harry Potter and the Philosopher's Stone\", \"The Hobbit\", \"The Hunger Games\"],\n",
    "    ratings=[7, 5, 9],\n",
    "    titles=selected_titles,\n",
    "    sim_matrix=tfidf_sim_matrix,\n",
    "    n=20,\n",
    "    metric=\"cosine\",\n",
    ")"
   ]
  }
 ],
 "metadata": {
  "kernelspec": {
   "display_name": "Python 3",
   "language": "python",
   "name": "python3"
  },
  "language_info": {
   "codemirror_mode": {
    "name": "ipython",
    "version": 3
   },
   "file_extension": ".py",
   "mimetype": "text/x-python",
   "name": "python",
   "nbconvert_exporter": "python",
   "pygments_lexer": "ipython3",
   "version": "3.9.2"
  },
  "toc": {
   "base_numbering": 1,
   "nav_menu": {},
   "number_sections": true,
   "sideBar": true,
   "skip_h1_title": false,
   "title_cell": "Table of Contents",
   "title_sidebar": "Contents",
   "toc_cell": false,
   "toc_position": {
    "height": "calc(100% - 180px)",
    "left": "10px",
    "top": "150px",
    "width": "384px"
   },
   "toc_section_display": true,
   "toc_window_display": true
  }
 },
 "nbformat": 4,
 "nbformat_minor": 5
}
