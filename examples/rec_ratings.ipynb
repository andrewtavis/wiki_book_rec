{
 "cells": [
  {
   "cell_type": "markdown",
   "id": "legal-cylinder",
   "metadata": {
    "toc": true
   },
   "source": [
    "<h1>Table of Contents<span class=\"tocSkip\"></span></h1>\n",
    "<div class=\"toc\"><ul class=\"toc-item\"><li><span><a href=\"#Importing-Parsed-Book-Articles\" data-toc-modified-id=\"Importing-Parsed-Book-Articles-1\"><span class=\"toc-item-num\">1&nbsp;&nbsp;</span>Importing Parsed Book Articles</a></span></li><li><span><a href=\"#Preparing-BERT-and-TFIDF-Models\" data-toc-modified-id=\"Preparing-BERT-and-TFIDF-Models-2\"><span class=\"toc-item-num\">2&nbsp;&nbsp;</span>Preparing BERT and TFIDF Models</a></span><ul class=\"toc-item\"><li><span><a href=\"#BERT\" data-toc-modified-id=\"BERT-2.1\"><span class=\"toc-item-num\">2.1&nbsp;&nbsp;</span>BERT</a></span></li><li><span><a href=\"#TFIDF\" data-toc-modified-id=\"TFIDF-2.2\"><span class=\"toc-item-num\">2.2&nbsp;&nbsp;</span>TFIDF</a></span></li><li><span><a href=\"#Combining-Models\" data-toc-modified-id=\"Combining-Models-2.3\"><span class=\"toc-item-num\">2.3&nbsp;&nbsp;</span>Combining Models</a></span></li></ul></li><li><span><a href=\"#Comparing-Outputs---TFIDF\" data-toc-modified-id=\"Comparing-Outputs---TFIDF-3\"><span class=\"toc-item-num\">3&nbsp;&nbsp;</span>Comparing Outputs - TFIDF</a></span><ul class=\"toc-item\"><li><span><a href=\"#No-Ratings\" data-toc-modified-id=\"No-Ratings-3.1\"><span class=\"toc-item-num\">3.1&nbsp;&nbsp;</span>No Ratings</a></span></li><li><span><a href=\"#Slight-Preference\" data-toc-modified-id=\"Slight-Preference-3.2\"><span class=\"toc-item-num\">3.2&nbsp;&nbsp;</span>Slight Preference</a></span></li><li><span><a href=\"#Skewed-Preference\" data-toc-modified-id=\"Skewed-Preference-3.3\"><span class=\"toc-item-num\">3.3&nbsp;&nbsp;</span>Skewed Preference</a></span></li></ul></li><li><span><a href=\"#Comparing-Outputs---BERT-and-TFIDF\" data-toc-modified-id=\"Comparing-Outputs---BERT-and-TFIDF-4\"><span class=\"toc-item-num\">4&nbsp;&nbsp;</span>Comparing Outputs - BERT and TFIDF</a></span></li></ul></div>"
   ]
  },
  {
   "cell_type": "markdown",
   "id": "d6b07698",
   "metadata": {
    "ExecuteTime": {
     "end_time": "2021-04-07T20:30:31.031707Z",
     "start_time": "2021-04-07T20:30:31.016696Z"
    }
   },
   "source": [
    "**rec_ratings**\n",
    "\n",
    "Demonstrates the passing multiple inputs with multiple assigned ratings to weigh book recommendations accordingly. See [examples/rec_books](https://github.com/andrewtavis/wikirec/blob/main/examples/rec_books.ipynb) for downloading and parsing steps.\n",
    "\n",
    "If using this notebook in [Google Colab](https://colab.research.google.com/github/andrewtavis/wikirec/blob/main/examples/rec_ratings.ipynb), you can activate GPUs by following `Edit > Notebook settings > Hardware accelerator` and selecting `GPU`."
   ]
  },
  {
   "cell_type": "code",
   "execution_count": 1,
   "id": "retained-roman",
   "metadata": {
    "ExecuteTime": {
     "end_time": "2021-04-17T09:10:01.162928Z",
     "start_time": "2021-04-17T09:10:01.160371Z"
    }
   },
   "outputs": [],
   "source": [
    "# pip install wikirec -U"
   ]
  },
  {
   "cell_type": "markdown",
   "id": "inside-guidance",
   "metadata": {},
   "source": [
    "The following gensim update might be necessary in Google Colab as the default version is very low."
   ]
  },
  {
   "cell_type": "code",
   "execution_count": 2,
   "id": "italic-sustainability",
   "metadata": {
    "ExecuteTime": {
     "end_time": "2021-04-17T09:10:01.528241Z",
     "start_time": "2021-04-17T09:10:01.525714Z"
    }
   },
   "outputs": [],
   "source": [
    "# pip install gensim -U"
   ]
  },
  {
   "cell_type": "markdown",
   "id": "defensive-answer",
   "metadata": {},
   "source": [
    "In Colab you'll also need to download nltk's names data."
   ]
  },
  {
   "cell_type": "code",
   "execution_count": 3,
   "id": "serious-preparation",
   "metadata": {
    "ExecuteTime": {
     "end_time": "2021-04-17T09:10:01.845803Z",
     "start_time": "2021-04-17T09:10:01.843528Z"
    }
   },
   "outputs": [],
   "source": [
    "# import nltk\n",
    "# nltk.download(\"names\")"
   ]
  },
  {
   "cell_type": "code",
   "execution_count": 4,
   "id": "65004bb8",
   "metadata": {
    "ExecuteTime": {
     "end_time": "2021-04-17T09:10:08.189049Z",
     "start_time": "2021-04-17T09:10:02.255383Z"
    }
   },
   "outputs": [
    {
     "data": {
      "text/html": [
       "<style>.container { width:99% !important; }</style>"
      ],
      "text/plain": [
       "<IPython.core.display.HTML object>"
      ]
     },
     "metadata": {},
     "output_type": "display_data"
    }
   ],
   "source": [
    "import os\n",
    "import json\n",
    "import pickle\n",
    "\n",
    "from wikirec import data_utils, model, utils\n",
    "\n",
    "from IPython.core.display import display, HTML\n",
    "\n",
    "display(HTML(\"<style>.container { width:99% !important; }</style>\"))"
   ]
  },
  {
   "cell_type": "markdown",
   "id": "47ce8291",
   "metadata": {},
   "source": [
    "# Importing Parsed Book Articles"
   ]
  },
  {
   "cell_type": "code",
   "execution_count": 5,
   "id": "9e7a9710",
   "metadata": {
    "ExecuteTime": {
     "end_time": "2021-04-17T09:10:10.544707Z",
     "start_time": "2021-04-17T09:10:10.542106Z"
    }
   },
   "outputs": [],
   "source": [
    "topic = \"books\""
   ]
  },
  {
   "cell_type": "code",
   "execution_count": 7,
   "id": "d4505134",
   "metadata": {
    "ExecuteTime": {
     "end_time": "2021-04-17T09:10:27.661129Z",
     "start_time": "2021-04-17T09:10:25.847698Z"
    }
   },
   "outputs": [
    {
     "name": "stdout",
     "output_type": "stream",
     "text": [
      "Found a total of 41234 books.\n"
     ]
    }
   ],
   "source": [
    "# Make sure to extract the .zip file containing enwiki_books.ndjson\n",
    "with open(\"./enwiki_books.ndjson\", \"r\") as fin:\n",
    "    books = [json.loads(l) for l in fin]\n",
    "\n",
    "print(f\"Found a total of {len(books)} books.\")"
   ]
  },
  {
   "cell_type": "code",
   "execution_count": 8,
   "id": "9aa016d4",
   "metadata": {
    "ExecuteTime": {
     "end_time": "2021-04-17T09:10:31.217452Z",
     "start_time": "2021-04-17T09:10:31.207003Z"
    }
   },
   "outputs": [],
   "source": [
    "titles = [m[0] for m in books] # Titles of each book\n",
    "texts = [m[1] for m in books] # The text from the English Wiki Articles of each page "
   ]
  },
  {
   "cell_type": "code",
   "execution_count": 11,
   "id": "bf57a0d5",
   "metadata": {
    "ExecuteTime": {
     "end_time": "2021-04-17T09:14:04.720522Z",
     "start_time": "2021-04-17T09:14:04.579650Z"
    }
   },
   "outputs": [
    {
     "name": "stdout",
     "output_type": "stream",
     "text": [
      "Loading book corpus and selected indexes\n"
     ]
    }
   ],
   "source": [
    "if os.path.isfile(\"./book_corpus_idxs.pkl\"):\n",
    "    print(f\"Loading book corpus and selected indexes\")\n",
    "    with open(f\"./book_corpus_idxs.pkl\", \"rb\") as f:\n",
    "        text_corpus, selected_idxs = pickle.load(f)\n",
    "        selected_titles = [titles[i] for i in selected_idxs]\n",
    "\n",
    "else:\n",
    "    print(f\"Creating book corpus and selected indexes\")\n",
    "    text_corpus, selected_idxs = data_utils.clean(\n",
    "        texts=texts,\n",
    "        language=\"en\",\n",
    "        min_token_freq=5,  # 0 for Bert\n",
    "        min_token_len=3,  # 0 for Bert\n",
    "        min_tokens=50,\n",
    "        max_token_index=-1,\n",
    "        min_ngram_count=3,\n",
    "        remove_stopwords=True,  # False for Bert\n",
    "        ignore_words=None,\n",
    "        remove_names=True,\n",
    "        sample_size=1,\n",
    "        verbose=True,\n",
    "    )\n",
    "\n",
    "    selected_titles = [titles[i] for i in selected_idxs]\n",
    "\n",
    "    with open(\"./book_corpus_idxs.pkl\", \"wb\") as f:\n",
    "        print(\"Pickling book corpus and selected indexes\")\n",
    "        pickle.dump([text_corpus, selected_idxs], f, protocol=4)"
   ]
  },
  {
   "cell_type": "markdown",
   "id": "8b9656b5",
   "metadata": {},
   "source": [
    "# Preparing BERT and TFIDF Models"
   ]
  },
  {
   "cell_type": "code",
   "execution_count": 12,
   "id": "4947cfbf",
   "metadata": {
    "ExecuteTime": {
     "end_time": "2021-04-17T09:14:15.051396Z",
     "start_time": "2021-04-17T09:14:15.044038Z"
    }
   },
   "outputs": [],
   "source": [
    "def load_or_create_sim_matrix(\n",
    "    method,\n",
    "    corpus,\n",
    "    metric,\n",
    "    topic,\n",
    "    path=\"./\",\n",
    "    bert_st_model=\"xlm-r-bert-base-nli-stsb-mean-tokens\",\n",
    "    **kwargs,\n",
    "):\n",
    "    \"\"\"\n",
    "    Loads or creats a similarity matrix to deliver recommendations\n",
    "    \n",
    "    NOTE: the .pkl files made are 5-10GB or more in size\n",
    "    \"\"\"\n",
    "    if os.path.isfile(f\"{path}{topic}_{metric}_{method}_sim_matrix.pkl\"):\n",
    "        print(f\"Loading {method} {topic} {metric} similarity matrix\")\n",
    "        with open(f\"{path}{topic}_{metric}_{method}_sim_matrix.pkl\", \"rb\") as f:\n",
    "            sim_matrix = pickle.load(f)\n",
    "\n",
    "    else:\n",
    "        print(f\"Creating {method} {topic} {metric} similarity matrix\")\n",
    "        embeddings = model.gen_embeddings(\n",
    "            method=method, corpus=corpus, bert_st_model=bert_st_model, **kwargs,\n",
    "        )\n",
    "        sim_matrix = model.gen_sim_matrix(\n",
    "            method=method, metric=metric, embeddings=embeddings,\n",
    "        )\n",
    "\n",
    "        with open(f\"{path}{topic}_{metric}_{method}_sim_matrix.pkl\", \"wb\") as f:\n",
    "            print(f\"Pickling {method} {topic} {metric} similarity matrix\")\n",
    "            pickle.dump(sim_matrix, f, protocol=4)\n",
    "\n",
    "    return sim_matrix"
   ]
  },
  {
   "cell_type": "markdown",
   "id": "american-wellington",
   "metadata": {},
   "source": [
    "## BERT"
   ]
  },
  {
   "cell_type": "code",
   "execution_count": 16,
   "id": "rapid-pearl",
   "metadata": {
    "ExecuteTime": {
     "end_time": "2021-04-17T09:17:04.080887Z",
     "start_time": "2021-04-17T09:17:02.544641Z"
    }
   },
   "outputs": [],
   "source": [
    "# Remove n-grams for BERT training\n",
    "corpus_no_ngrams = [\n",
    "    \" \".join([t for t in text.split(\" \") if \"_\" not in t]) for text in text_corpus\n",
    "]"
   ]
  },
  {
   "cell_type": "code",
   "execution_count": 17,
   "id": "cubic-conclusion",
   "metadata": {
    "ExecuteTime": {
     "end_time": "2021-04-17T09:17:15.083299Z",
     "start_time": "2021-04-17T09:17:05.346463Z"
    }
   },
   "outputs": [
    {
     "name": "stdout",
     "output_type": "stream",
     "text": [
      "Loading bert books cosine similarity matrix\n"
     ]
    }
   ],
   "source": [
    "# We can pass kwargs for sentence_transformers.SentenceTransformer.encode\n",
    "bert_sim_matrix = load_or_create_sim_matrix(\n",
    "    method=\"bert\",\n",
    "    corpus=corpus_no_ngrams,\n",
    "    metric=\"cosine\",  # euclidean\n",
    "    topic=topic,\n",
    "    path=\"./\",\n",
    "    bert_st_model=\"xlm-r-bert-base-nli-stsb-mean-tokens\",\n",
    "    show_progress_bar=True,\n",
    "    batch_size=32,\n",
    ")"
   ]
  },
  {
   "cell_type": "markdown",
   "id": "satisfactory-kingston",
   "metadata": {},
   "source": [
    "## TFIDF"
   ]
  },
  {
   "cell_type": "code",
   "execution_count": 14,
   "id": "223db7bc",
   "metadata": {
    "ExecuteTime": {
     "end_time": "2021-04-17T09:15:25.313421Z",
     "start_time": "2021-04-17T09:14:54.231120Z"
    }
   },
   "outputs": [
    {
     "name": "stdout",
     "output_type": "stream",
     "text": [
      "Loading tfidf books cosine similarity matrix\n"
     ]
    }
   ],
   "source": [
    "# We can pass kwargs for sklearn.feature_extraction.text.TfidfVectorizer\n",
    "tfidf_sim_matrix = load_or_create_sim_matrix(\n",
    "    method=\"tfidf\",\n",
    "    corpus=text_corpus,\n",
    "    metric=\"cosine\",  # euclidean\n",
    "    topic=topic,\n",
    "    path=\"./\",\n",
    "    max_features=None,\n",
    "    norm='l2',\n",
    ")"
   ]
  },
  {
   "cell_type": "markdown",
   "id": "invalid-comparison",
   "metadata": {},
   "source": [
    "## Combining Models"
   ]
  },
  {
   "cell_type": "code",
   "execution_count": 18,
   "id": "marine-necklace",
   "metadata": {
    "ExecuteTime": {
     "end_time": "2021-04-17T09:19:28.464080Z",
     "start_time": "2021-04-17T09:18:02.998206Z"
    }
   },
   "outputs": [],
   "source": [
    "tfidf_weight = 0.35\n",
    "bert_weight = 1.0 - tfidf_weight\n",
    "bert_tfidf_sim_matrix = tfidf_weight * tfidf_sim_matrix + bert_weight * bert_sim_matrix"
   ]
  },
  {
   "cell_type": "markdown",
   "id": "430937dc",
   "metadata": {},
   "source": [
    "# Comparing Outputs - TFIDF"
   ]
  },
  {
   "cell_type": "markdown",
   "id": "14978e10",
   "metadata": {},
   "source": [
    "## No Ratings "
   ]
  },
  {
   "cell_type": "markdown",
   "id": "everyday-nightmare",
   "metadata": {},
   "source": [
    "In this case ratings are simply averages of the input similarities."
   ]
  },
  {
   "cell_type": "code",
   "execution_count": 30,
   "id": "1d3c7d13",
   "metadata": {
    "ExecuteTime": {
     "end_time": "2021-04-17T09:22:12.998123Z",
     "start_time": "2021-04-17T09:22:12.579319Z"
    }
   },
   "outputs": [
    {
     "data": {
      "text/plain": [
       "[['The History of The Hobbit', 0.4144937936077629],\n",
       " ['Harry Potter and the Chamber of Secrets', 0.34888387038976304],\n",
       " ['The Lord of the Rings', 0.3461664662907625],\n",
       " ['The Annotated Hobbit', 0.3431651523791515],\n",
       " ['Harry Potter and the Deathly Hallows', 0.3336208844683567],\n",
       " ['Harry Potter and the Goblet of Fire', 0.3323377108209634],\n",
       " ['Harry Potter and the Half-Blood Prince', 0.32972615751499673],\n",
       " ['Mr. Bliss', 0.3219122094772891],\n",
       " ['Harry Potter and the Order of the Phoenix', 0.3160426316664049],\n",
       " ['The Magical Worlds of Harry Potter', 0.30770960167033506]]"
      ]
     },
     "execution_count": 30,
     "metadata": {},
     "output_type": "execute_result"
    }
   ],
   "source": [
    "model.recommend(\n",
    "    inputs=[\"Harry Potter and the Philosopher's Stone\", \"The Hobbit\"],\n",
    "    ratings = None,\n",
    "    titles=selected_titles,\n",
    "    sim_matrix=tfidf_sim_matrix,\n",
    "    n=10,\n",
    "    metric=\"cosine\",\n",
    ")"
   ]
  },
  {
   "cell_type": "markdown",
   "id": "890e469a",
   "metadata": {},
   "source": [
    "## Slight Preference"
   ]
  },
  {
   "cell_type": "markdown",
   "id": "coordinate-prefix",
   "metadata": {},
   "source": [
    "Ratings for each input are restricted to be less than 10, and greater than or equal to 0. Notice the slight change in order, with preference for Harry Potter books being shifted higher."
   ]
  },
  {
   "cell_type": "code",
   "execution_count": 31,
   "id": "a54b0653",
   "metadata": {
    "ExecuteTime": {
     "end_time": "2021-04-17T09:22:18.266453Z",
     "start_time": "2021-04-17T09:22:17.835381Z"
    }
   },
   "outputs": [
    {
     "data": {
      "text/plain": [
       "[['Harry Potter and the Chamber of Secrets', 0.3338375326315423],\n",
       " ['Harry Potter and the Deathly Hallows', 0.3205803038084398],\n",
       " ['Harry Potter and the Goblet of Fire', 0.31891867694284576],\n",
       " ['Harry Potter and the Half-Blood Prince', 0.31590494471139013],\n",
       " ['Harry Potter and the Order of the Phoenix', 0.3061664463277075],\n",
       " ['The History of The Hobbit', 0.2983234055475572],\n",
       " ['The Magical Worlds of Harry Potter', 0.2918779267564048],\n",
       " ['Harry Potter and the Methods of Rationality', 0.27619951402732],\n",
       " ['Harry Potter and the Prisoner of Azkaban', 0.272304163328929],\n",
       " ['Fantastic Beasts and Where to Find Them', 0.2693397153375818]]"
      ]
     },
     "execution_count": 31,
     "metadata": {},
     "output_type": "execute_result"
    }
   ],
   "source": [
    "model.recommend(\n",
    "    inputs=[\"Harry Potter and the Philosopher's Stone\", \"The Hobbit\"],\n",
    "    ratings=[10, 7],\n",
    "    titles=selected_titles,\n",
    "    sim_matrix=tfidf_sim_matrix,\n",
    "    n=10,\n",
    "    metric=\"cosine\",\n",
    ")"
   ]
  },
  {
   "cell_type": "markdown",
   "id": "c9688f44",
   "metadata": {},
   "source": [
    "## Skewed Preference"
   ]
  },
  {
   "cell_type": "markdown",
   "id": "prescribed-summer",
   "metadata": {
    "ExecuteTime": {
     "end_time": "2021-04-17T09:20:53.334011Z",
     "start_time": "2021-04-17T09:20:53.327234Z"
    }
   },
   "source": [
    "The recommendations are now dominated by Harry Potter-related books."
   ]
  },
  {
   "cell_type": "code",
   "execution_count": 32,
   "id": "5825f720",
   "metadata": {
    "ExecuteTime": {
     "end_time": "2021-04-17T09:22:21.598190Z",
     "start_time": "2021-04-17T09:22:21.182831Z"
    }
   },
   "outputs": [
    {
     "data": {
      "text/plain": [
       "[['Harry Potter and the Chamber of Secrets', 0.3087603030345078],\n",
       " ['Harry Potter and the Deathly Hallows', 0.29884600270857836],\n",
       " ['Harry Potter and the Goblet of Fire', 0.2965536204793163],\n",
       " ['Harry Potter and the Half-Blood Prince', 0.29286959003871244],\n",
       " ['Harry Potter and the Order of the Phoenix', 0.2897061374298785],\n",
       " ['The Magical Worlds of Harry Potter', 0.2654918018998543],\n",
       " ['Harry Potter and the Methods of Rationality', 0.2580909354240481],\n",
       " ['Harry Potter and the Prisoner of Azkaban', 0.25155784850490504],\n",
       " ['Fantastic Beasts and Where to Find Them', 0.24842432392236208],\n",
       " ['The Casual Vacancy', 0.23260474042085055]]"
      ]
     },
     "execution_count": 32,
     "metadata": {},
     "output_type": "execute_result"
    }
   ],
   "source": [
    "model.recommend(\n",
    "    inputs=[\"Harry Potter and the Philosopher's Stone\", \"The Hobbit\"],\n",
    "    ratings=[10, 2],\n",
    "    titles=selected_titles,\n",
    "    sim_matrix=tfidf_sim_matrix,\n",
    "    n=10,\n",
    "    metric=\"cosine\",\n",
    ")"
   ]
  },
  {
   "cell_type": "markdown",
   "id": "f40df22a",
   "metadata": {},
   "source": [
    "# Comparing Outputs - BERT and TFIDF"
   ]
  },
  {
   "cell_type": "code",
   "execution_count": 37,
   "id": "earlier-campus",
   "metadata": {
    "ExecuteTime": {
     "end_time": "2021-04-17T09:28:45.619412Z",
     "start_time": "2021-04-17T09:28:44.840588Z"
    }
   },
   "outputs": [
    {
     "data": {
      "text/plain": [
       "[['The Lord of the Rings', 0.8129448240195865],\n",
       " ['Harry Potter and the Order of the Phoenix', 0.8058152446026797],\n",
       " ['Harry Potter and the Half-Blood Prince', 0.7899741862008424],\n",
       " ['Harry Potter and the Prisoner of Azkaban', 0.7795265344828326],\n",
       " ['Harry Potter and the Deathly Hallows', 0.774902922811441],\n",
       " ['The Weirdstone of Brisingamen', 0.7718548190275306],\n",
       " ['The Magical Worlds of Harry Potter', 0.7691708768967348],\n",
       " ['Harry Potter and the Chamber of Secrets', 0.7669100258159494],\n",
       " ['Gregor and the Curse of the Warmbloods', 0.762141807244329],\n",
       " ['The Marvellous Land of Snergs', 0.7591230587892558],\n",
       " ['Mockingjay', 0.7585438304114571],\n",
       " ['Fantastic Beasts and Where to Find Them', 0.757280478510476],\n",
       " ['The Children of Húrin', 0.7570409672927969],\n",
       " ['The Book of Three', 0.7497114647690369],\n",
       " ['Harry Potter and the Goblet of Fire', 0.7414905999564945],\n",
       " ['The Bone Season', 0.7401901103966402],\n",
       " ['A Wrinkle in Time', 0.7392014390129485],\n",
       " ['A Wizard of Earthsea', 0.7337085913181924],\n",
       " ['The Casual Vacancy', 0.7306041913659236],\n",
       " ['Krindlekrax', 0.7301903731240345]]"
      ]
     },
     "execution_count": 37,
     "metadata": {},
     "output_type": "execute_result"
    }
   ],
   "source": [
    "model.recommend(\n",
    "    inputs=[\"Harry Potter and the Philosopher's Stone\", \"The Hobbit\", \"The Hunger Games\"],\n",
    "    ratings=None,\n",
    "    titles=selected_titles,\n",
    "    sim_matrix=bert_tfidf_sim_matrix,\n",
    "    n=20,\n",
    "    metric=\"cosine\",\n",
    ")"
   ]
  },
  {
   "cell_type": "code",
   "execution_count": 38,
   "id": "0f4d1d6c",
   "metadata": {
    "ExecuteTime": {
     "end_time": "2021-04-17T09:32:02.473308Z",
     "start_time": "2021-04-17T09:32:01.686544Z"
    }
   },
   "outputs": [
    {
     "data": {
      "text/plain": [
       "[['Mockingjay', 0.5847107027999907],\n",
       " ['Harry Potter and the Order of the Phoenix', 0.5846454899012506],\n",
       " ['The Lord of the Rings', 0.5758166462534925],\n",
       " ['Harry Potter and the Half-Blood Prince', 0.5677581220645922],\n",
       " ['Harry Potter and the Deathly Hallows', 0.5591667887082767],\n",
       " ['Harry Potter and the Prisoner of Azkaban', 0.5584267832698454],\n",
       " ['Catching Fire', 0.5582404750962344],\n",
       " ['Gregor and the Curse of the Warmbloods', 0.5527128074677247],\n",
       " ['Harry Potter and the Chamber of Secrets', 0.5524299731616052],\n",
       " ['The Weirdstone of Brisingamen', 0.5520358627555212],\n",
       " ['The Magical Worlds of Harry Potter', 0.5506942177737976],\n",
       " ['The Bone Season', 0.547984210564344],\n",
       " ['The Book of Three', 0.5459088891490478],\n",
       " ['Fantastic Beasts and Where to Find Them', 0.5443195045210549],\n",
       " ['The Marvellous Land of Snergs', 0.5398665287849369],\n",
       " ['A Wrinkle in Time', 0.5373739646822866],\n",
       " ['The Casual Vacancy', 0.5358385211606874],\n",
       " ['Harry Potter and the Goblet of Fire', 0.5346379229854734],\n",
       " ['The Children of Húrin', 0.5340832788476909],\n",
       " ['A Wizard of Earthsea', 0.5297755576425843]]"
      ]
     },
     "execution_count": 38,
     "metadata": {},
     "output_type": "execute_result"
    }
   ],
   "source": [
    "model.recommend(\n",
    "    inputs=[\n",
    "        \"Harry Potter and the Philosopher's Stone\",\n",
    "        \"The Hobbit\",\n",
    "        \"The Hunger Games\",\n",
    "    ],\n",
    "    ratings=[7, 6, 9],\n",
    "    titles=selected_titles,\n",
    "    sim_matrix=bert_tfidf_sim_matrix,\n",
    "    n=20,\n",
    "    metric=\"cosine\",\n",
    ")"
   ]
  },
  {
   "cell_type": "code",
   "execution_count": null,
   "id": "proud-charger",
   "metadata": {},
   "outputs": [],
   "source": []
  }
 ],
 "metadata": {
  "kernelspec": {
   "display_name": "Python [conda env:wikirec-dev] *",
   "language": "python",
   "name": "conda-env-wikirec-dev-py"
  },
  "language_info": {
   "codemirror_mode": {
    "name": "ipython",
    "version": 3
   },
   "file_extension": ".py",
   "mimetype": "text/x-python",
   "name": "python",
   "nbconvert_exporter": "python",
   "pygments_lexer": "ipython3",
   "version": "3.7.10"
  },
  "toc": {
   "base_numbering": 1,
   "nav_menu": {},
   "number_sections": true,
   "sideBar": false,
   "skip_h1_title": false,
   "title_cell": "Table of Contents",
   "title_sidebar": "Contents",
   "toc_cell": true,
   "toc_position": {
    "height": "542.727px",
    "left": "307px",
    "top": "104.213px",
    "width": "383.991px"
   },
   "toc_section_display": false,
   "toc_window_display": false
  }
 },
 "nbformat": 4,
 "nbformat_minor": 5
}
